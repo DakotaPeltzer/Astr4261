{
 "cells": [
  {
   "cell_type": "code",
   "execution_count": 7,
   "metadata": {
    "execution": {
     "iopub.execute_input": "2022-03-11T03:43:18.927195Z",
     "iopub.status.busy": "2022-03-11T03:43:18.926545Z",
     "iopub.status.idle": "2022-03-11T03:43:18.949040Z",
     "shell.execute_reply": "2022-03-11T03:43:18.947064Z",
     "shell.execute_reply.started": "2022-03-11T03:43:18.927142Z"
    }
   },
   "outputs": [],
   "source": [
    "%matplotlib inline\n",
    "\n",
    "import sys\n",
    "sys.path.append('/home/idies/workspace/Storage/Dakota_Peltzer/persistent/hrpo-pipeline') #Change this so that it is your hrpo-pipeline directory.\n",
    "import aperturePhot as ap\n",
    "\n",
    "import numpy as np\n",
    "import ccdproc as ccdp\n",
    "\n",
    "from astropy.nddata import CCDData\n",
    "import os\n",
    "from pathlib import Path\n",
    "\n",
    "import astropy.units as u\n",
    "\n",
    "import math"
   ]
  },
  {
   "cell_type": "code",
   "execution_count": 8,
   "metadata": {
    "execution": {
     "iopub.execute_input": "2022-03-11T03:43:18.953739Z",
     "iopub.status.busy": "2022-03-11T03:43:18.953153Z",
     "iopub.status.idle": "2022-03-11T03:43:18.962446Z",
     "shell.execute_reply": "2022-03-11T03:43:18.960691Z",
     "shell.execute_reply.started": "2022-03-11T03:43:18.953692Z"
    }
   },
   "outputs": [],
   "source": [
    "os.chdir('/home/idies/workspace/Temporary/Dakota_Peltzer/scratch/20220222')"
   ]
  },
  {
   "cell_type": "code",
   "execution_count": 9,
   "metadata": {
    "execution": {
     "iopub.execute_input": "2022-03-11T03:43:18.964830Z",
     "iopub.status.busy": "2022-03-11T03:43:18.964372Z",
     "iopub.status.idle": "2022-03-11T03:43:20.126233Z",
     "shell.execute_reply": "2022-03-11T03:43:20.124050Z",
     "shell.execute_reply.started": "2022-03-11T03:43:18.964786Z"
    }
   },
   "outputs": [
    {
     "name": "stdout",
     "output_type": "stream",
     "text": [
      "         file         simple bitpix ... flipstat         swowner         tilexy\n",
      "--------------------- ------ ------ ... -------- ----------------------- ------\n",
      "      AP_Aur-001R.fit   True     16 ...          LSU Physics-Astronomy-1     --\n",
      "      AP_Aur-001V.fit   True     16 ...          LSU Physics-Astronomy-1     --\n",
      " AltDomeFlat-001R.fit   True     16 ...          LSU Physics-Astronomy-1     --\n",
      " AltDomeFlat-001V.fit   True     16 ...          LSU Physics-Astronomy-1     --\n",
      " AltDomeFlat-002R.fit   True     16 ...          LSU Physics-Astronomy-1     --\n",
      " AltDomeFlat-002V.fit   True     16 ...          LSU Physics-Astronomy-1     --\n",
      " AltDomeFlat-003R.fit   True     16 ...          LSU Physics-Astronomy-1     --\n",
      " AltDomeFlat-003V.fit   True     16 ...          LSU Physics-Astronomy-1     --\n",
      " AltDomeFlat-004R.fit   True     16 ...          LSU Physics-Astronomy-1     --\n",
      " AltDomeFlat-004V.fit   True     16 ...          LSU Physics-Astronomy-1     --\n",
      "                  ...    ...    ... ...      ...                     ...    ...\n",
      "V410Aur_0222_001R.fit   True     16 ...          LSU Physics-Astronomy-1    0,0\n",
      "V410Aur_0222_001V.fit   True     16 ...          LSU Physics-Astronomy-1    0,0\n",
      "V410Aur_0222_002B.fit   True     16 ...          LSU Physics-Astronomy-1    1,0\n",
      "V410Aur_0222_002R.fit   True     16 ...          LSU Physics-Astronomy-1    1,0\n",
      "V410Aur_0222_002V.fit   True     16 ...          LSU Physics-Astronomy-1    1,0\n",
      "V410Aur_0222_003B.fit   True     16 ...          LSU Physics-Astronomy-1    0,1\n",
      "V410Aur_0222_003R.fit   True     16 ...          LSU Physics-Astronomy-1    0,1\n",
      "V410Aur_0222_003V.fit   True     16 ...          LSU Physics-Astronomy-1    0,1\n",
      "V410Aur_0222_004B.fit   True     16 ...          LSU Physics-Astronomy-1    1,1\n",
      "V410Aur_0222_004R.fit   True     16 ...          LSU Physics-Astronomy-1    1,1\n",
      "V410Aur_0222_004V.fit   True     16 ...          LSU Physics-Astronomy-1    1,1\n",
      "Length = 76 rows\n"
     ]
    }
   ],
   "source": [
    "base = \"/home/idies/workspace/\"\n",
    "\n",
    "data_dir = \"Temporary/Dakota_Peltzer/scratch/20220222\"\n",
    "\n",
    "path = os.path.join(base,data_dir)\n",
    "\n",
    "os.chdir(path)\n",
    "\n",
    "if not os.path.exists(\"reduced\"):\n",
    "    os.mkdir(\"reduced\")\n",
    "\n",
    "images = ccdp.ImageFileCollection('/home/idies/workspace/Temporary/Dakota_Peltzer/scratch/20220222')\n",
    "print(images.summary)\n"
   ]
  },
  {
   "cell_type": "code",
   "execution_count": 18,
   "metadata": {
    "execution": {
     "iopub.execute_input": "2022-03-11T03:57:37.235192Z",
     "iopub.status.busy": "2022-03-11T03:57:37.234545Z",
     "iopub.status.idle": "2022-03-11T03:57:37.329227Z",
     "shell.execute_reply": "2022-03-11T03:57:37.327249Z",
     "shell.execute_reply.started": "2022-03-11T03:57:37.235140Z"
    },
    "tags": []
   },
   "outputs": [
    {
     "name": "stdout",
     "output_type": "stream",
     "text": [
      "Stdev = 8.077885002442082\n"
     ]
    }
   ],
   "source": [
    "bias1 = CCDData.read('Bias-001.fit', unit=\"adu\")\n",
    "b1 = np.array(bias1.data).astype(float)\n",
    "\n",
    "bias2 = CCDData.read('Bias-002.fit', unit=\"adu\")\n",
    "b2 = np.array(bias2.data).astype(float)\n",
    "\n",
    "Bdif1 = b2-b1\n",
    "\n",
    "SD =np.std(Bdif1.data)\n",
    "print(\"Stdev = %s\" % SD)\n",
    "    "
   ]
  },
  {
   "cell_type": "code",
   "execution_count": null,
   "metadata": {},
   "outputs": [],
   "source": []
  },
  {
   "cell_type": "code",
   "execution_count": null,
   "metadata": {},
   "outputs": [],
   "source": []
  }
 ],
 "metadata": {
  "kernelspec": {
   "display_name": "Python 3.8 (py38)",
   "language": "python",
   "name": "py38"
  },
  "language_info": {
   "codemirror_mode": {
    "name": "ipython",
    "version": 3
   },
   "file_extension": ".py",
   "mimetype": "text/x-python",
   "name": "python",
   "nbconvert_exporter": "python",
   "pygments_lexer": "ipython3",
   "version": "3.8.5"
  }
 },
 "nbformat": 4,
 "nbformat_minor": 4
}
