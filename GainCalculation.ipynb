{
 "cells": [
  {
   "cell_type": "code",
   "execution_count": 31,
   "metadata": {
    "execution": {
     "iopub.execute_input": "2022-03-25T02:58:16.818459Z",
     "iopub.status.busy": "2022-03-25T02:58:16.817737Z",
     "iopub.status.idle": "2022-03-25T02:58:16.845288Z",
     "shell.execute_reply": "2022-03-25T02:58:16.843761Z",
     "shell.execute_reply.started": "2022-03-25T02:58:16.818357Z"
    }
   },
   "outputs": [],
   "source": [
    "%matplotlib inline\n",
    "\n",
    "import sys\n",
    "sys.path.append('/home/idies/workspace/Storage/Dakota_Peltzer/persistent/hrpo-pipeline') #Change this so that it is your hrpo-pipeline directory.\n",
    "import aperturePhot as ap\n",
    "\n",
    "import numpy as np\n",
    "import ccdproc as ccdp\n",
    "\n",
    "from astropy.nddata import CCDData\n",
    "import os\n",
    "from pathlib import Path\n",
    "\n",
    "import astropy.units as u\n",
    "\n",
    "import math"
   ]
  },
  {
   "cell_type": "code",
   "execution_count": 32,
   "metadata": {
    "execution": {
     "iopub.execute_input": "2022-03-25T02:58:16.850211Z",
     "iopub.status.busy": "2022-03-25T02:58:16.849788Z",
     "iopub.status.idle": "2022-03-25T02:58:16.862921Z",
     "shell.execute_reply": "2022-03-25T02:58:16.861194Z",
     "shell.execute_reply.started": "2022-03-25T02:58:16.850167Z"
    }
   },
   "outputs": [],
   "source": [
    "os.chdir('/home/idies/workspace/Temporary/Dakota_Peltzer/scratch/20220222')"
   ]
  },
  {
   "cell_type": "code",
   "execution_count": 33,
   "metadata": {
    "execution": {
     "iopub.execute_input": "2022-03-25T02:58:16.865196Z",
     "iopub.status.busy": "2022-03-25T02:58:16.864792Z",
     "iopub.status.idle": "2022-03-25T02:58:18.002166Z",
     "shell.execute_reply": "2022-03-25T02:58:18.000018Z",
     "shell.execute_reply.started": "2022-03-25T02:58:16.865152Z"
    }
   },
   "outputs": [
    {
     "name": "stdout",
     "output_type": "stream",
     "text": [
      "         file         simple bitpix ... flipstat         swowner         tilexy\n",
      "--------------------- ------ ------ ... -------- ----------------------- ------\n",
      "      AP_Aur-001R.fit   True     16 ...          LSU Physics-Astronomy-1     --\n",
      "      AP_Aur-001V.fit   True     16 ...          LSU Physics-Astronomy-1     --\n",
      " AltDomeFlat-001R.fit   True     16 ...          LSU Physics-Astronomy-1     --\n",
      " AltDomeFlat-001V.fit   True     16 ...          LSU Physics-Astronomy-1     --\n",
      " AltDomeFlat-002R.fit   True     16 ...          LSU Physics-Astronomy-1     --\n",
      " AltDomeFlat-002V.fit   True     16 ...          LSU Physics-Astronomy-1     --\n",
      " AltDomeFlat-003R.fit   True     16 ...          LSU Physics-Astronomy-1     --\n",
      " AltDomeFlat-003V.fit   True     16 ...          LSU Physics-Astronomy-1     --\n",
      " AltDomeFlat-004R.fit   True     16 ...          LSU Physics-Astronomy-1     --\n",
      " AltDomeFlat-004V.fit   True     16 ...          LSU Physics-Astronomy-1     --\n",
      "                  ...    ...    ... ...      ...                     ...    ...\n",
      "V410Aur_0222_001R.fit   True     16 ...          LSU Physics-Astronomy-1    0,0\n",
      "V410Aur_0222_001V.fit   True     16 ...          LSU Physics-Astronomy-1    0,0\n",
      "V410Aur_0222_002B.fit   True     16 ...          LSU Physics-Astronomy-1    1,0\n",
      "V410Aur_0222_002R.fit   True     16 ...          LSU Physics-Astronomy-1    1,0\n",
      "V410Aur_0222_002V.fit   True     16 ...          LSU Physics-Astronomy-1    1,0\n",
      "V410Aur_0222_003B.fit   True     16 ...          LSU Physics-Astronomy-1    0,1\n",
      "V410Aur_0222_003R.fit   True     16 ...          LSU Physics-Astronomy-1    0,1\n",
      "V410Aur_0222_003V.fit   True     16 ...          LSU Physics-Astronomy-1    0,1\n",
      "V410Aur_0222_004B.fit   True     16 ...          LSU Physics-Astronomy-1    1,1\n",
      "V410Aur_0222_004R.fit   True     16 ...          LSU Physics-Astronomy-1    1,1\n",
      "V410Aur_0222_004V.fit   True     16 ...          LSU Physics-Astronomy-1    1,1\n",
      "Length = 76 rows\n"
     ]
    }
   ],
   "source": [
    "base = \"/home/idies/workspace/\"\n",
    "\n",
    "data_dir = \"Temporary/Dakota_Peltzer/scratch/20220222\"\n",
    "\n",
    "path = os.path.join(base,data_dir)\n",
    "\n",
    "os.chdir(path)\n",
    "\n",
    "if not os.path.exists(\"reduced\"):\n",
    "    os.mkdir(\"reduced\")\n",
    "\n",
    "images = ccdp.ImageFileCollection('/home/idies/workspace/Temporary/Dakota_Peltzer/scratch/20220222')\n",
    "print(images.summary)\n"
   ]
  },
  {
   "cell_type": "code",
   "execution_count": 34,
   "metadata": {
    "execution": {
     "iopub.execute_input": "2022-03-25T02:58:18.005108Z",
     "iopub.status.busy": "2022-03-25T02:58:18.004689Z",
     "iopub.status.idle": "2022-03-25T02:58:18.534568Z",
     "shell.execute_reply": "2022-03-25T02:58:18.532602Z",
     "shell.execute_reply.started": "2022-03-25T02:58:18.005060Z"
    },
    "tags": []
   },
   "outputs": [
    {
     "name": "stdout",
     "output_type": "stream",
     "text": [
      "Stdev = 8.058493744866016\n",
      "Variance = 64.93932143604471\n"
     ]
    }
   ],
   "source": [
    "bias1 = CCDData.read('Bias-001.fit', unit=\"adu\")\n",
    "bias2 = CCDData.read('Bias-002.fit', unit=\"adu\")\n",
    "bias3 = CCDData.read('Bias-003.fit', unit=\"adu\")\n",
    "bias4 = CCDData.read('Bias-004.fit', unit=\"adu\")\n",
    "bias5 = CCDData.read('Bias-005.fit', unit=\"adu\")\n",
    "bias6 = CCDData.read('Bias-006.fit', unit=\"adu\")\n",
    "bias7 = CCDData.read('Bias-007.fit', unit=\"adu\")\n",
    "bias8 = CCDData.read('Bias-008.fit', unit=\"adu\")\n",
    "bias9 = CCDData.read('Bias-009.fit', unit=\"adu\")\n",
    "bias10 = CCDData.read('Bias-010.fit', unit=\"adu\")\n",
    "\n",
    "b1 = np.array(bias1.data).astype(float)\n",
    "b2 = np.array(bias2.data).astype(float)\n",
    "b3 = np.array(bias3.data).astype(float)\n",
    "b4 = np.array(bias4.data).astype(float)\n",
    "b5 = np.array(bias5.data).astype(float)\n",
    "b6 = np.array(bias6.data).astype(float)\n",
    "b7 = np.array(bias7.data).astype(float)\n",
    "b8 = np.array(bias8.data).astype(float)\n",
    "b9 = np.array(bias9.data).astype(float)\n",
    "b10 = np.array(bias10.data).astype(float)\n",
    "\n",
    "bias_dif1 = b2 - b1\n",
    "bias_dif2 = b4 - b3\n",
    "bias_dif3 = b6 - b5\n",
    "bias_dif4 = b8 - b7\n",
    "bias_dif5 = b10 - b9\n",
    "\n",
    "\n",
    "\n",
    "SD1 =np.std(bias_dif1.data)\n",
    "SD2 =np.std(bias_dif2.data)\n",
    "SD3 =np.std(bias_dif3.data)\n",
    "SD4 =np.std(bias_dif4.data)\n",
    "SD5 =np.std(bias_dif5.data)\n",
    "\n",
    "SD_data = [SD1, SD2, SD3, SD4, SD5]\n",
    "\n",
    "import statistics\n",
    "\n",
    "SD = np.mean(SD_data)\n",
    "print(\"Stdev = %s\" % SD)\n",
    "\n",
    "\n",
    "V = SD*SD\n",
    "print(\"Variance = %s\" % V)\n",
    "    "
   ]
  },
  {
   "cell_type": "code",
   "execution_count": 35,
   "metadata": {
    "execution": {
     "iopub.execute_input": "2022-03-25T02:58:18.540017Z",
     "iopub.status.busy": "2022-03-25T02:58:18.539581Z",
     "iopub.status.idle": "2022-03-25T02:58:18.681461Z",
     "shell.execute_reply": "2022-03-25T02:58:18.679642Z",
     "shell.execute_reply.started": "2022-03-25T02:58:18.539968Z"
    },
    "tags": []
   },
   "outputs": [
    {
     "name": "stdout",
     "output_type": "stream",
     "text": [
      "F1 = 13658.555943489075\n",
      "B1 = 797.908353805542\n",
      "F2 = 13694.562476158142\n",
      "B2 = 797.8990507125854\n",
      "g =3.0769758942971603\n"
     ]
    }
   ],
   "source": [
    "flat1 = CCDData.read('DomeFlat-001B.fit', unit=\"adu\")\n",
    "flat2 = CCDData.read('DomeFlat-002B.fit', unit=\"adu\")\n",
    "\n",
    "f1 = np.array(flat1.data).astype(float)\n",
    "f2 = np.array(flat2.data).astype(float)\n",
    "\n",
    "\n",
    "\n",
    "\n",
    "F1 = np.mean(flat1)\n",
    "print(\"F1 = %s\" % F1)\n",
    "B1= np.mean(bias1)\n",
    "print(\"B1 = %s\" % B1)\n",
    "F2 = np.mean(flat2)\n",
    "print(\"F2 = %s\" % F2)\n",
    "B2= np.mean(bias2)\n",
    "print(\"B2 = %s\" % B2)\n",
    "\n",
    "F_dif = f2- f1\n",
    "B_dif = b2- b1\n",
    "\n",
    "\n",
    "SD_F = np.std(F_dif)\n",
    "SD_B = np.std(B_dif)\n",
    "\n",
    "g= (F1 + F2 - B1-B2)/((SD_F*SD_F)- (SD_B*SD_B))\n",
    "print(\"g =%s\" %g)"
   ]
  },
  {
   "cell_type": "code",
   "execution_count": 7,
   "metadata": {
    "execution": {
     "iopub.execute_input": "2022-03-30T01:13:15.022548Z",
     "iopub.status.busy": "2022-03-30T01:13:15.021937Z",
     "iopub.status.idle": "2022-03-30T01:13:15.036294Z",
     "shell.execute_reply": "2022-03-30T01:13:15.034810Z",
     "shell.execute_reply.started": "2022-03-30T01:13:15.022481Z"
    },
    "tags": []
   },
   "outputs": [],
   "source": [
    "def gain():\n",
    "    bias1 = CCDData.read(bias_list[0], unit=\"adu\")\n",
    "    bias2 = CCDData.read(bias_list[1], unit=\"adu\")\n",
    "    flat1 = CCDData.read(flat_list[0], unit=\"adu\")\n",
    "    flat2 = CCDData.read(flat_list[1], unit=\"adu\")\n",
    "    \n",
    "    F1 = np.mean(flat1)\n",
    "    B1= np.mean(bias1)\n",
    "    F2 = np.mean(flat2)\n",
    "    B2= np.mean(bias2)\n",
    "\n",
    "    F_dif = f2- f1\n",
    "    B_dif = b2- b1\n",
    "\n",
    "\n",
    "\n",
    "    SD_F = np.std(F_dif)\n",
    "\n",
    "    SD_B = np.std(B_dif)\n",
    "\n",
    "\n",
    "    g= (F1 + F2 - B1-B2)/((SD_F*SD_F)- (SD_B*SD_B))\n",
    "\n",
    "    print(\"g =%s\" %g)\n"
   ]
  },
  {
   "cell_type": "code",
   "execution_count": null,
   "metadata": {},
   "outputs": [],
   "source": []
  }
 ],
 "metadata": {
  "kernelspec": {
   "display_name": "Python 3.8 (py38)",
   "language": "python",
   "name": "py38"
  },
  "language_info": {
   "codemirror_mode": {
    "name": "ipython",
    "version": 3
   },
   "file_extension": ".py",
   "mimetype": "text/x-python",
   "name": "python",
   "nbconvert_exporter": "python",
   "pygments_lexer": "ipython3",
   "version": "3.8.5"
  }
 },
 "nbformat": 4,
 "nbformat_minor": 4
}
