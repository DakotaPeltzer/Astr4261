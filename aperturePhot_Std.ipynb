{
 "cells": [
  {
   "cell_type": "code",
   "execution_count": 2,
   "metadata": {
    "execution": {
     "iopub.execute_input": "2022-04-01T01:36:50.016574Z",
     "iopub.status.busy": "2022-04-01T01:36:50.015923Z",
     "iopub.status.idle": "2022-04-01T01:36:50.041966Z",
     "shell.execute_reply": "2022-04-01T01:36:50.038573Z",
     "shell.execute_reply.started": "2022-04-01T01:36:50.016522Z"
    },
    "tags": []
   },
   "outputs": [
    {
     "ename": "ModuleNotFoundError",
     "evalue": "No module named 'aperturePhot'",
     "output_type": "error",
     "traceback": [
      "\u001b[0;31m---------------------------------------------------------------------------\u001b[0m",
      "\u001b[0;31mModuleNotFoundError\u001b[0m                       Traceback (most recent call last)",
      "\u001b[0;32m/tmp/ipykernel_517/2786999528.py\u001b[0m in \u001b[0;36m<module>\u001b[0;34m\u001b[0m\n\u001b[1;32m      2\u001b[0m \u001b[0msys\u001b[0m\u001b[0;34m.\u001b[0m\u001b[0mpath\u001b[0m\u001b[0;34m.\u001b[0m\u001b[0mappend\u001b[0m\u001b[0;34m(\u001b[0m\u001b[0;34m'/home/idies/Storage/Dakota_Peltzer/persistent/hrpo-pipeline'\u001b[0m\u001b[0;34m)\u001b[0m\u001b[0;34m\u001b[0m\u001b[0;34m\u001b[0m\u001b[0m\n\u001b[1;32m      3\u001b[0m \u001b[0;34m\u001b[0m\u001b[0m\n\u001b[0;32m----> 4\u001b[0;31m \u001b[0;32mimport\u001b[0m \u001b[0maperturePhot\u001b[0m \u001b[0;32mas\u001b[0m \u001b[0map\u001b[0m\u001b[0;34m\u001b[0m\u001b[0;34m\u001b[0m\u001b[0m\n\u001b[0m\u001b[1;32m      5\u001b[0m \u001b[0;32mfrom\u001b[0m \u001b[0mpathlib\u001b[0m \u001b[0;32mimport\u001b[0m \u001b[0mPath\u001b[0m\u001b[0;34m\u001b[0m\u001b[0;34m\u001b[0m\u001b[0m\n\u001b[1;32m      6\u001b[0m \u001b[0;32mfrom\u001b[0m \u001b[0mastropy\u001b[0m\u001b[0;34m.\u001b[0m\u001b[0mnddata\u001b[0m \u001b[0;32mimport\u001b[0m \u001b[0mCCDData\u001b[0m\u001b[0;34m\u001b[0m\u001b[0;34m\u001b[0m\u001b[0m\n",
      "\u001b[0;31mModuleNotFoundError\u001b[0m: No module named 'aperturePhot'"
     ]
    }
   ],
   "source": [
    "import sys\n",
    "sys.path.append('/home/idies/Storage/Dakota_Peltzer/persistent/hrpo-pipeline')\n",
    "\n",
    "import aperturePhot as ap\n",
    "from pathlib import Path\n",
    "from astropy.nddata import CCDData\n",
    "from astropy.io import fits\n",
    "import numpy as np\n",
    "import matplotlib.pyplot as plt\n",
    "import os\n",
    "import plateSolve\n",
    "%matplotlib inline\n",
    "\n",
    "datadir = '/home/idies/scratch/20220324/reduced'\n",
    "path = Path(datadir)\n",
    "os.chdir(path)"
   ]
  },
  {
   "cell_type": "code",
   "execution_count": null,
   "metadata": {},
   "outputs": [],
   "source": [
    "#Load images and plate solve them (plate solving is not strictly necessary,\n",
    "#so move on without it if it doesn't work)\n",
    "\n",
    "imname = 'PG1323-085-001R.fit'\n",
    "imR = CCDData.read(imname)\n",
    "check = plateSolve.autoSolve(imname,imR)\n",
    "print(imname,check)\n",
    "imname = 'PG1323-085-001V.fit'\n",
    "imR = CCDData.read(imname)\n",
    "check = plateSolve.autoSolve(imname,imR)\n",
    "print(imname,check)\n",
    "imname = 'PG1323-085-001B.fit'\n",
    "imR = CCDData.read(imname)\n",
    "check = plateSolve.autoSolve(imname,imR)\n",
    "print(imname,check)"
   ]
  },
  {
   "cell_type": "code",
   "execution_count": null,
   "metadata": {},
   "outputs": [],
   "source": [
    "imR = CCDData.read('PG1323-085-001R.wcs.fit')\n",
    "#imR = fits.open(path / 'Standard109954-001R_wcs.fit')\n",
    "\n",
    "#Find stars in the image. This returns a list of stars and an image/2d array of \n",
    "#an estimate of the background.\n",
    "sources,bgplane = ap.findStars(imR)\n",
    "\n",
    "print(\"Found\",len(sources),\"stars\")\n",
    "#Show the image with the background subtracted and the stars found\n",
    "ap.showimage(imR.data-bgplane,stars=sources,starid='label')"
   ]
  },
  {
   "cell_type": "code",
   "execution_count": null,
   "metadata": {},
   "outputs": [],
   "source": [
    "#Generate a growth curve (i.e., measure fluxes at a range of aperture \n",
    "#sizes for all stars). This returns 4 objects: \n",
    "#rap = an array of the aperture radii\n",
    "#mag = an array with estimates of the magnitude of each star\n",
    "#\n",
    "rap,mag,err,apers = ap.growthCurve(imR,sources)\n",
    "\n",
    "#Plot the growth curve - use this to pick stars to use when calculating \n",
    "#the aperture correction\n",
    "ap.plotGrowth(rap,mag,err,figsize=(7,7))"
   ]
  },
  {
   "cell_type": "code",
   "execution_count": null,
   "metadata": {},
   "outputs": [],
   "source": [
    "#Use the growth curve plot to pick a star for aperture corrections. \n",
    "#This should be a list of at least one star id number. If you pick more than one\n",
    "#their growth curves will be averaged (though this probably isn't the best idea).\n",
    "#You want to pick a star whose growth curve gets flat and stays flat without too \n",
    "#much noise - you want the star to be reasonably bright, too. \n",
    "useForAppCorr = [1]\n",
    "\n",
    "#You also need to pick a stopping radius - this should be the smallest radius at \n",
    "#which you think the growth curve has stopped growing. You will count the photons\n",
    "#out to this radius\n",
    "stoppingApertureRadius = 26.0"
   ]
  },
  {
   "cell_type": "code",
   "execution_count": null,
   "metadata": {},
   "outputs": [],
   "source": [
    "#Plot the SNR curve for a chosen star(s) to estimate the optimum aperture. You\n",
    "#should plot at least your target star and any comparison stars if you are using\n",
    "#them. You can specify the stars to plot using the Nbrightest keyword as so:\n",
    "#Nbrightest=X will plot the brightest X stars\n",
    "#Nbrightest=[3,5,7] will plot stars with ids 3,5,7\n",
    "#The function will print the optimum apertures for each of the stars, and plot \n",
    "#the SNR vs radius \n",
    "ap.plotSNR(rap,mag,err,Nbrightest=[2,4,5],figsize=(7,7))"
   ]
  },
  {
   "cell_type": "code",
   "execution_count": null,
   "metadata": {},
   "outputs": [],
   "source": [
    "#Apply an aperture correction for a chosen optimal aperture radius. To specify\n",
    "#the optimum aperture you can either specify the stars that you want to optimize\n",
    "#for using optap=[list,of,one,or,more,stars], in which case it will take the \n",
    "#average of the radii that maximize SNR for the set of stars. Or you can specify \n",
    "#it directly as a floating point number. You will probably want to \n",
    "#pick the faintest stars that you will be using for this\n",
    "#This function returns aperture corrected magnitudes, uncertainties, an estimate\n",
    "#of the systematic error (don't use this!), and the aperture correction that was\n",
    "#applied\n",
    "imag,ierr,isys,apCor = ap.apertureCorrection(rap,mag,err,optap=[2,4,5],\n",
    "                                            stoppingAperture=stoppingApertureRadius,\n",
    "                                            stars=useForAppCorr)\n",
    "\n",
    "imag"
   ]
  },
  {
   "cell_type": "code",
   "execution_count": null,
   "metadata": {},
   "outputs": [],
   "source": [
    "#Show the image of the tooltip-labeled starfield (hover over stars with the mouse)\n",
    "ap.showimage(imR,stars=sources,invert=True)\n",
    "\n",
    "#Or with all stars labeled\n",
    "ap.showimage(imR,stars=sources,starid='label')\n",
    "\n",
    "#Print a table of the stars and their aperture corrected magnitudes and \n",
    "#uncertainties. These are your measurements of instrumental magnitudes\n",
    "for i,m in enumerate(imag):\n",
    "    print('%4d %7.3f +/- %5.3f (stat) %5.3f (sys)' % (sources['id'][i]-1,m,ierr[i],isys))"
   ]
  },
  {
   "cell_type": "code",
   "execution_count": null,
   "metadata": {},
   "outputs": [],
   "source": [
    "#Repeat the process for another image, but with stars found in the first image\n",
    "#This is useful if the automated star finder doesn't pick up all of the stars\n",
    "#you need in each image, or to save you work/confusion trying to match star IDs\n",
    "#multiple times.\n",
    "\n",
    "import astropy.wcs as wcs\n",
    "imV = CCDData.read('PG1323-085-001V.wcs.fit')\n",
    "wcsR = wcs.WCS(imR.header)\n",
    "wcsV = wcs.WCS(imV.header)\n",
    "Rstarxy = np.transpose((sources['xcentroid'],sources['ycentroid']))\n",
    "radec = wcsR.all_pix2world(Rstarxy,1)\n",
    "Vstarxy = wcsV.all_world2pix(radec,1)\n",
    "\n",
    "ap.showimage(imV,stars=Vstarxy,starid='label')\n",
    "\n",
    "\n",
    "#Generate a growth curve (i.e., measure fluxes at a range of aperture \n",
    "#sizes for all stars)\n",
    "rapV,magV,errV,apersV = ap.growthCurve(imV,Vstarxy)\n",
    "\n",
    "#Apply an aperture correction for a chosen optimal aperture radius\n",
    "imagV,ierrV,isysV,apCorrV = ap.apertureCorrection(rapV,magV,errV,optap=[2,4,5],\n",
    "                                              stoppingAperture=stoppingApertureRadius,\n",
    "                                              stars=useForAppCorr)\n",
    "\n",
    "for i,m in enumerate(imagV):\n",
    "    print('%4d %7.3f +/- %5.3f (stat) %5.3f (sys)' % (sources['id'][i]-1,m,ierr[i],isys))"
   ]
  },
  {
   "cell_type": "code",
   "execution_count": null,
   "metadata": {},
   "outputs": [],
   "source": [
    "#You might need to read values from the header\n",
    "imR.header['AIRMASS']"
   ]
  },
  {
   "cell_type": "code",
   "execution_count": null,
   "metadata": {},
   "outputs": [],
   "source": []
  }
 ],
 "metadata": {
  "kernelspec": {
   "display_name": "Python 3.8 (py38)",
   "language": "python",
   "name": "py38"
  },
  "language_info": {
   "codemirror_mode": {
    "name": "ipython",
    "version": 3
   },
   "file_extension": ".py",
   "mimetype": "text/x-python",
   "name": "python",
   "nbconvert_exporter": "python",
   "pygments_lexer": "ipython3",
   "version": "3.8.5"
  }
 },
 "nbformat": 4,
 "nbformat_minor": 4
}
