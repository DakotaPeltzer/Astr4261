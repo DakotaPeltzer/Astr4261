{
 "cells": [
  {
   "cell_type": "code",
   "execution_count": 12,
   "metadata": {
    "execution": {
     "iopub.execute_input": "2022-04-06T04:11:44.898463Z",
     "iopub.status.busy": "2022-04-06T04:11:44.897482Z",
     "iopub.status.idle": "2022-04-06T04:11:44.919829Z",
     "shell.execute_reply": "2022-04-06T04:11:44.917628Z",
     "shell.execute_reply.started": "2022-04-06T04:11:44.898370Z"
    },
    "tags": []
   },
   "outputs": [],
   "source": [
    "import os \n",
    "os.chdir('/home/idies/workspace/Temporary/Dakota_Peltzer/scratch/20220324')"
   ]
  },
  {
   "cell_type": "code",
   "execution_count": 13,
   "metadata": {
    "execution": {
     "iopub.execute_input": "2022-04-06T04:11:46.889818Z",
     "iopub.status.busy": "2022-04-06T04:11:46.889215Z",
     "iopub.status.idle": "2022-04-06T04:11:46.929251Z",
     "shell.execute_reply": "2022-04-06T04:11:46.927277Z",
     "shell.execute_reply.started": "2022-04-06T04:11:46.889768Z"
    },
    "tags": []
   },
   "outputs": [],
   "source": [
    "import sys\n",
    "sys.path.append('/home/idies/workspace/Storage/Dakota_Peltzer/persistent/hrpo-pipeline')\n",
    "\n",
    "import aperturePhot as ap\n",
    "from pathlib import Path\n",
    "from astropy.nddata import CCDData\n",
    "from astropy.io import fits\n",
    "import numpy as np\n",
    "import matplotlib.pyplot as plt\n",
    "import os\n",
    "import plateSolve\n",
    "%matplotlib inline\n",
    "\n",
    "datadir = '/home/idies/workspace/Temporary/Dakota_Peltzer/scratch/20220324/reduced'\n",
    "path = Path(datadir)\n",
    "os.chdir(path)"
   ]
  },
  {
   "cell_type": "code",
   "execution_count": 14,
   "metadata": {
    "execution": {
     "iopub.execute_input": "2022-04-06T04:11:50.966184Z",
     "iopub.status.busy": "2022-04-06T04:11:50.965528Z",
     "iopub.status.idle": "2022-04-06T04:11:52.889414Z",
     "shell.execute_reply": "2022-04-06T04:11:52.886110Z",
     "shell.execute_reply.started": "2022-04-06T04:11:50.966129Z"
    },
    "tags": []
   },
   "outputs": [
    {
     "ename": "FileNotFoundError",
     "evalue": "[Errno 2] No such file or directory: '/home/idies/workspace/Storage/penny1/fall21/bin/grtrans'",
     "output_type": "error",
     "traceback": [
      "\u001b[0;31m---------------------------------------------------------------------------\u001b[0m",
      "\u001b[0;31mFileNotFoundError\u001b[0m                         Traceback (most recent call last)",
      "\u001b[0;32m/tmp/ipykernel_359/1753861317.py\u001b[0m in \u001b[0;36m<module>\u001b[0;34m\u001b[0m\n\u001b[1;32m      4\u001b[0m \u001b[0mimname\u001b[0m \u001b[0;34m=\u001b[0m \u001b[0;34m'PG1323-085-001R.fit'\u001b[0m\u001b[0;34m\u001b[0m\u001b[0;34m\u001b[0m\u001b[0m\n\u001b[1;32m      5\u001b[0m \u001b[0mimR\u001b[0m \u001b[0;34m=\u001b[0m \u001b[0mCCDData\u001b[0m\u001b[0;34m.\u001b[0m\u001b[0mread\u001b[0m\u001b[0;34m(\u001b[0m\u001b[0mimname\u001b[0m\u001b[0;34m)\u001b[0m\u001b[0;34m\u001b[0m\u001b[0;34m\u001b[0m\u001b[0m\n\u001b[0;32m----> 6\u001b[0;31m \u001b[0mcheck\u001b[0m \u001b[0;34m=\u001b[0m \u001b[0mplateSolve\u001b[0m\u001b[0;34m.\u001b[0m\u001b[0mautoSolve\u001b[0m\u001b[0;34m(\u001b[0m\u001b[0mimname\u001b[0m\u001b[0;34m,\u001b[0m\u001b[0mimR\u001b[0m\u001b[0;34m)\u001b[0m\u001b[0;34m\u001b[0m\u001b[0;34m\u001b[0m\u001b[0m\n\u001b[0m\u001b[1;32m      7\u001b[0m \u001b[0mprint\u001b[0m\u001b[0;34m(\u001b[0m\u001b[0mimname\u001b[0m\u001b[0;34m,\u001b[0m\u001b[0mcheck\u001b[0m\u001b[0;34m)\u001b[0m\u001b[0;34m\u001b[0m\u001b[0;34m\u001b[0m\u001b[0m\n\u001b[1;32m      8\u001b[0m \u001b[0mimname\u001b[0m \u001b[0;34m=\u001b[0m \u001b[0;34m'PG1323-085-001V.fit'\u001b[0m\u001b[0;34m\u001b[0m\u001b[0;34m\u001b[0m\u001b[0m\n",
      "\u001b[0;32m~/workspace/Storage/Dakota_Peltzer/persistent/hrpo-pipeline/plateSolve.py\u001b[0m in \u001b[0;36mautoSolve\u001b[0;34m(imname, hdu, threshold, fwhm, fpnTrim, requeryGaia, GaiaROW_LIMIT, searchRadiusScale, gaiaMagLimit, grmatch_nstars, grmatch_level, grmatch_crm, grmatch_maxdist, grmatch_order, manualSelect, returnDiagnostics, verbose)\u001b[0m\n\u001b[1;32m    683\u001b[0m                      \u001b[0msearchRadiusScale\u001b[0m\u001b[0;34m=\u001b[0m\u001b[0msearchRadiusScale\u001b[0m\u001b[0;34m,\u001b[0m \u001b[0mgaiaMagLimit\u001b[0m\u001b[0;34m=\u001b[0m\u001b[0mgaiaMagLimit\u001b[0m\u001b[0;34m,\u001b[0m\u001b[0;34m\u001b[0m\u001b[0;34m\u001b[0m\u001b[0m\n\u001b[1;32m    684\u001b[0m                      verbose=verbose)\n\u001b[0;32m--> 685\u001b[0;31m     plateSolve(imname,hdu,grmatch_nstars=grmatch_nstars, grmatch_level=grmatch_level,\n\u001b[0m\u001b[1;32m    686\u001b[0m                \u001b[0mgrmatch_crm\u001b[0m\u001b[0;34m=\u001b[0m\u001b[0mgrmatch_crm\u001b[0m\u001b[0;34m,\u001b[0m \u001b[0mgrmatch_maxdist\u001b[0m\u001b[0;34m=\u001b[0m\u001b[0mgrmatch_maxdist\u001b[0m\u001b[0;34m,\u001b[0m\u001b[0;34m\u001b[0m\u001b[0;34m\u001b[0m\u001b[0m\n\u001b[1;32m    687\u001b[0m                grmatch_order=grmatch_order, verbose=verbose)\n",
      "\u001b[0;32m~/workspace/Storage/Dakota_Peltzer/persistent/hrpo-pipeline/plateSolve.py\u001b[0m in \u001b[0;36mplateSolve\u001b[0;34m(imname, hdu, grmatch_nstars, grmatch_level, grmatch_crm, grmatch_maxdist, grmatch_order, manualSelect, verbose)\u001b[0m\n\u001b[1;32m    482\u001b[0m \u001b[0;34m\u001b[0m\u001b[0m\n\u001b[1;32m    483\u001b[0m     \u001b[0;32mif\u001b[0m \u001b[0mverbose\u001b[0m\u001b[0;34m>\u001b[0m\u001b[0;36m0\u001b[0m\u001b[0;34m:\u001b[0m \u001b[0mprint\u001b[0m\u001b[0;34m(\u001b[0m\u001b[0;34m' '\u001b[0m\u001b[0;34m.\u001b[0m\u001b[0mjoin\u001b[0m\u001b[0;34m(\u001b[0m\u001b[0mgrtrans1\u001b[0m\u001b[0;34m)\u001b[0m \u001b[0;34m+\u001b[0m \u001b[0;34m'\\n'\u001b[0m\u001b[0;34m)\u001b[0m\u001b[0;34m\u001b[0m\u001b[0;34m\u001b[0m\u001b[0m\n\u001b[0;32m--> 484\u001b[0;31m     \u001b[0mrv1\u001b[0m \u001b[0;34m=\u001b[0m \u001b[0msubprocess\u001b[0m\u001b[0;34m.\u001b[0m\u001b[0mcheck_call\u001b[0m\u001b[0;34m(\u001b[0m\u001b[0mgrtrans1\u001b[0m\u001b[0;34m)\u001b[0m\u001b[0;34m\u001b[0m\u001b[0;34m\u001b[0m\u001b[0m\n\u001b[0m\u001b[1;32m    485\u001b[0m     \u001b[0;32mif\u001b[0m \u001b[0mverbose\u001b[0m\u001b[0;34m>\u001b[0m\u001b[0;36m0\u001b[0m\u001b[0;34m:\u001b[0m \u001b[0mprint\u001b[0m\u001b[0;34m(\u001b[0m\u001b[0;34m\"Return code:\"\u001b[0m\u001b[0;34m,\u001b[0m\u001b[0mrv1\u001b[0m\u001b[0;34m,\u001b[0m\u001b[0;34m'\\n\\n'\u001b[0m\u001b[0;34m)\u001b[0m\u001b[0;34m\u001b[0m\u001b[0;34m\u001b[0m\u001b[0m\n\u001b[1;32m    486\u001b[0m \u001b[0;34m\u001b[0m\u001b[0m\n",
      "\u001b[0;32m~/miniconda3/envs/py38/lib/python3.8/subprocess.py\u001b[0m in \u001b[0;36mcheck_call\u001b[0;34m(*popenargs, **kwargs)\u001b[0m\n\u001b[1;32m    357\u001b[0m     \u001b[0mcheck_call\u001b[0m\u001b[0;34m(\u001b[0m\u001b[0;34m[\u001b[0m\u001b[0;34m\"ls\"\u001b[0m\u001b[0;34m,\u001b[0m \u001b[0;34m\"-l\"\u001b[0m\u001b[0;34m]\u001b[0m\u001b[0;34m)\u001b[0m\u001b[0;34m\u001b[0m\u001b[0;34m\u001b[0m\u001b[0m\n\u001b[1;32m    358\u001b[0m     \"\"\"\n\u001b[0;32m--> 359\u001b[0;31m     \u001b[0mretcode\u001b[0m \u001b[0;34m=\u001b[0m \u001b[0mcall\u001b[0m\u001b[0;34m(\u001b[0m\u001b[0;34m*\u001b[0m\u001b[0mpopenargs\u001b[0m\u001b[0;34m,\u001b[0m \u001b[0;34m**\u001b[0m\u001b[0mkwargs\u001b[0m\u001b[0;34m)\u001b[0m\u001b[0;34m\u001b[0m\u001b[0;34m\u001b[0m\u001b[0m\n\u001b[0m\u001b[1;32m    360\u001b[0m     \u001b[0;32mif\u001b[0m \u001b[0mretcode\u001b[0m\u001b[0;34m:\u001b[0m\u001b[0;34m\u001b[0m\u001b[0;34m\u001b[0m\u001b[0m\n\u001b[1;32m    361\u001b[0m         \u001b[0mcmd\u001b[0m \u001b[0;34m=\u001b[0m \u001b[0mkwargs\u001b[0m\u001b[0;34m.\u001b[0m\u001b[0mget\u001b[0m\u001b[0;34m(\u001b[0m\u001b[0;34m\"args\"\u001b[0m\u001b[0;34m)\u001b[0m\u001b[0;34m\u001b[0m\u001b[0;34m\u001b[0m\u001b[0m\n",
      "\u001b[0;32m~/miniconda3/envs/py38/lib/python3.8/subprocess.py\u001b[0m in \u001b[0;36mcall\u001b[0;34m(timeout, *popenargs, **kwargs)\u001b[0m\n\u001b[1;32m    338\u001b[0m     \u001b[0mretcode\u001b[0m \u001b[0;34m=\u001b[0m \u001b[0mcall\u001b[0m\u001b[0;34m(\u001b[0m\u001b[0;34m[\u001b[0m\u001b[0;34m\"ls\"\u001b[0m\u001b[0;34m,\u001b[0m \u001b[0;34m\"-l\"\u001b[0m\u001b[0;34m]\u001b[0m\u001b[0;34m)\u001b[0m\u001b[0;34m\u001b[0m\u001b[0;34m\u001b[0m\u001b[0m\n\u001b[1;32m    339\u001b[0m     \"\"\"\n\u001b[0;32m--> 340\u001b[0;31m     \u001b[0;32mwith\u001b[0m \u001b[0mPopen\u001b[0m\u001b[0;34m(\u001b[0m\u001b[0;34m*\u001b[0m\u001b[0mpopenargs\u001b[0m\u001b[0;34m,\u001b[0m \u001b[0;34m**\u001b[0m\u001b[0mkwargs\u001b[0m\u001b[0;34m)\u001b[0m \u001b[0;32mas\u001b[0m \u001b[0mp\u001b[0m\u001b[0;34m:\u001b[0m\u001b[0;34m\u001b[0m\u001b[0;34m\u001b[0m\u001b[0m\n\u001b[0m\u001b[1;32m    341\u001b[0m         \u001b[0;32mtry\u001b[0m\u001b[0;34m:\u001b[0m\u001b[0;34m\u001b[0m\u001b[0;34m\u001b[0m\u001b[0m\n\u001b[1;32m    342\u001b[0m             \u001b[0;32mreturn\u001b[0m \u001b[0mp\u001b[0m\u001b[0;34m.\u001b[0m\u001b[0mwait\u001b[0m\u001b[0;34m(\u001b[0m\u001b[0mtimeout\u001b[0m\u001b[0;34m=\u001b[0m\u001b[0mtimeout\u001b[0m\u001b[0;34m)\u001b[0m\u001b[0;34m\u001b[0m\u001b[0;34m\u001b[0m\u001b[0m\n",
      "\u001b[0;32m~/miniconda3/envs/py38/lib/python3.8/subprocess.py\u001b[0m in \u001b[0;36m__init__\u001b[0;34m(self, args, bufsize, executable, stdin, stdout, stderr, preexec_fn, close_fds, shell, cwd, env, universal_newlines, startupinfo, creationflags, restore_signals, start_new_session, pass_fds, encoding, errors, text)\u001b[0m\n\u001b[1;32m    852\u001b[0m                             encoding=encoding, errors=errors)\n\u001b[1;32m    853\u001b[0m \u001b[0;34m\u001b[0m\u001b[0m\n\u001b[0;32m--> 854\u001b[0;31m             self._execute_child(args, executable, preexec_fn, close_fds,\n\u001b[0m\u001b[1;32m    855\u001b[0m                                 \u001b[0mpass_fds\u001b[0m\u001b[0;34m,\u001b[0m \u001b[0mcwd\u001b[0m\u001b[0;34m,\u001b[0m \u001b[0menv\u001b[0m\u001b[0;34m,\u001b[0m\u001b[0;34m\u001b[0m\u001b[0;34m\u001b[0m\u001b[0m\n\u001b[1;32m    856\u001b[0m                                 \u001b[0mstartupinfo\u001b[0m\u001b[0;34m,\u001b[0m \u001b[0mcreationflags\u001b[0m\u001b[0;34m,\u001b[0m \u001b[0mshell\u001b[0m\u001b[0;34m,\u001b[0m\u001b[0;34m\u001b[0m\u001b[0;34m\u001b[0m\u001b[0m\n",
      "\u001b[0;32m~/miniconda3/envs/py38/lib/python3.8/subprocess.py\u001b[0m in \u001b[0;36m_execute_child\u001b[0;34m(self, args, executable, preexec_fn, close_fds, pass_fds, cwd, env, startupinfo, creationflags, shell, p2cread, p2cwrite, c2pread, c2pwrite, errread, errwrite, restore_signals, start_new_session)\u001b[0m\n\u001b[1;32m   1700\u001b[0m                     \u001b[0;32mif\u001b[0m \u001b[0merrno_num\u001b[0m \u001b[0;34m!=\u001b[0m \u001b[0;36m0\u001b[0m\u001b[0;34m:\u001b[0m\u001b[0;34m\u001b[0m\u001b[0;34m\u001b[0m\u001b[0m\n\u001b[1;32m   1701\u001b[0m                         \u001b[0merr_msg\u001b[0m \u001b[0;34m=\u001b[0m \u001b[0mos\u001b[0m\u001b[0;34m.\u001b[0m\u001b[0mstrerror\u001b[0m\u001b[0;34m(\u001b[0m\u001b[0merrno_num\u001b[0m\u001b[0;34m)\u001b[0m\u001b[0;34m\u001b[0m\u001b[0;34m\u001b[0m\u001b[0m\n\u001b[0;32m-> 1702\u001b[0;31m                     \u001b[0;32mraise\u001b[0m \u001b[0mchild_exception_type\u001b[0m\u001b[0;34m(\u001b[0m\u001b[0merrno_num\u001b[0m\u001b[0;34m,\u001b[0m \u001b[0merr_msg\u001b[0m\u001b[0;34m,\u001b[0m \u001b[0merr_filename\u001b[0m\u001b[0;34m)\u001b[0m\u001b[0;34m\u001b[0m\u001b[0;34m\u001b[0m\u001b[0m\n\u001b[0m\u001b[1;32m   1703\u001b[0m                 \u001b[0;32mraise\u001b[0m \u001b[0mchild_exception_type\u001b[0m\u001b[0;34m(\u001b[0m\u001b[0merr_msg\u001b[0m\u001b[0;34m)\u001b[0m\u001b[0;34m\u001b[0m\u001b[0;34m\u001b[0m\u001b[0m\n\u001b[1;32m   1704\u001b[0m \u001b[0;34m\u001b[0m\u001b[0m\n",
      "\u001b[0;31mFileNotFoundError\u001b[0m: [Errno 2] No such file or directory: '/home/idies/workspace/Storage/penny1/fall21/bin/grtrans'"
     ]
    }
   ],
   "source": [
    "#Load images and plate solve them (plate solving is not strictly necessary,\n",
    "#so move on without it if it doesn't work)\n",
    "\n",
    "imname = 'PG1323-085-001R.fit'\n",
    "imR = CCDData.read(imname)\n",
    "check = plateSolve.autoSolve(imname,imR)\n",
    "print(imname,check)\n",
    "imname = 'PG1323-085-001V.fit'\n",
    "imR = CCDData.read(imname)\n",
    "check = plateSolve.autoSolve(imname,imR)\n",
    "print(imname,check)\n",
    "imname = 'PG1323-085-001B.fit'\n",
    "imR = CCDData.read(imname)\n",
    "check = plateSolve.autoSolve(imname,imR)\n",
    "print(imname,check)"
   ]
  },
  {
   "cell_type": "code",
   "execution_count": null,
   "metadata": {
    "execution": {
     "iopub.status.busy": "2022-04-06T03:21:13.831851Z",
     "iopub.status.idle": "2022-04-06T03:21:13.832642Z",
     "shell.execute_reply": "2022-04-06T03:21:13.832251Z",
     "shell.execute_reply.started": "2022-04-06T03:21:13.832216Z"
    }
   },
   "outputs": [],
   "source": [
    "imR = CCDData.read('PG1323-085-001R.wcs.fit')\n",
    "#imR = fits.open(path / 'Standard109954-001R_wcs.fit')\n",
    "\n",
    "#Find stars in the image. This returns a list of stars and an image/2d array of \n",
    "#an estimate of the background.\n",
    "sources,bgplane = ap.findStars(imR)\n",
    "\n",
    "print(\"Found\",len(sources),\"stars\")\n",
    "#Show the image with the background subtracted and the stars found\n",
    "ap.showimage(imR.data-bgplane,stars=sources,starid='label')"
   ]
  },
  {
   "cell_type": "code",
   "execution_count": null,
   "metadata": {
    "execution": {
     "iopub.status.busy": "2022-04-06T03:21:13.836466Z",
     "iopub.status.idle": "2022-04-06T03:21:13.837138Z",
     "shell.execute_reply": "2022-04-06T03:21:13.836791Z",
     "shell.execute_reply.started": "2022-04-06T03:21:13.836761Z"
    }
   },
   "outputs": [],
   "source": [
    "#Generate a growth curve (i.e., measure fluxes at a range of aperture \n",
    "#sizes for all stars). This returns 4 objects: \n",
    "#rap = an array of the aperture radii\n",
    "#mag = an array with estimates of the magnitude of each star\n",
    "#\n",
    "rap,mag,err,apers = ap.growthCurve(imR,sources)\n",
    "\n",
    "#Plot the growth curve - use this to pick stars to use when calculating \n",
    "#the aperture correction\n",
    "ap.plotGrowth(rap,mag,err,figsize=(7,7))"
   ]
  },
  {
   "cell_type": "code",
   "execution_count": null,
   "metadata": {
    "execution": {
     "iopub.status.busy": "2022-04-06T03:21:13.839948Z",
     "iopub.status.idle": "2022-04-06T03:21:13.840677Z",
     "shell.execute_reply": "2022-04-06T03:21:13.840291Z",
     "shell.execute_reply.started": "2022-04-06T03:21:13.840261Z"
    }
   },
   "outputs": [],
   "source": [
    "#Use the growth curve plot to pick a star for aperture corrections. \n",
    "#This should be a list of at least one star id number. If you pick more than one\n",
    "#their growth curves will be averaged (though this probably isn't the best idea).\n",
    "#You want to pick a star whose growth curve gets flat and stays flat without too \n",
    "#much noise - you want the star to be reasonably bright, too. \n",
    "useForAppCorr = [1]\n",
    "\n",
    "#You also need to pick a stopping radius - this should be the smallest radius at \n",
    "#which you think the growth curve has stopped growing. You will count the photons\n",
    "#out to this radius\n",
    "stoppingApertureRadius = 26.0"
   ]
  },
  {
   "cell_type": "code",
   "execution_count": null,
   "metadata": {
    "execution": {
     "iopub.status.busy": "2022-04-06T03:21:13.842931Z",
     "iopub.status.idle": "2022-04-06T03:21:13.843664Z",
     "shell.execute_reply": "2022-04-06T03:21:13.843274Z",
     "shell.execute_reply.started": "2022-04-06T03:21:13.843243Z"
    }
   },
   "outputs": [],
   "source": [
    "#Plot the SNR curve for a chosen star(s) to estimate the optimum aperture. You\n",
    "#should plot at least your target star and any comparison stars if you are using\n",
    "#them. You can specify the stars to plot using the Nbrightest keyword as so:\n",
    "#Nbrightest=X will plot the brightest X stars\n",
    "#Nbrightest=[3,5,7] will plot stars with ids 3,5,7\n",
    "#The function will print the optimum apertures for each of the stars, and plot \n",
    "#the SNR vs radius \n",
    "ap.plotSNR(rap,mag,err,Nbrightest=[2,4,5],figsize=(7,7))"
   ]
  },
  {
   "cell_type": "code",
   "execution_count": null,
   "metadata": {
    "execution": {
     "iopub.status.busy": "2022-04-06T03:21:13.845544Z",
     "iopub.status.idle": "2022-04-06T03:21:13.846212Z",
     "shell.execute_reply": "2022-04-06T03:21:13.845864Z",
     "shell.execute_reply.started": "2022-04-06T03:21:13.845834Z"
    }
   },
   "outputs": [],
   "source": [
    "#Apply an aperture correction for a chosen optimal aperture radius. To specify\n",
    "#the optimum aperture you can either specify the stars that you want to optimize\n",
    "#for using optap=[list,of,one,or,more,stars], in which case it will take the \n",
    "#average of the radii that maximize SNR for the set of stars. Or you can specify \n",
    "#it directly as a floating point number. You will probably want to \n",
    "#pick the faintest stars that you will be using for this\n",
    "#This function returns aperture corrected magnitudes, uncertainties, an estimate\n",
    "#of the systematic error (don't use this!), and the aperture correction that was\n",
    "#applied\n",
    "imag,ierr,isys,apCor = ap.apertureCorrection(rap,mag,err,optap=[2,4,5],\n",
    "                                            stoppingAperture=stoppingApertureRadius,\n",
    "                                            stars=useForAppCorr)\n",
    "\n",
    "imag"
   ]
  },
  {
   "cell_type": "code",
   "execution_count": null,
   "metadata": {
    "execution": {
     "iopub.status.busy": "2022-04-06T03:21:13.848476Z",
     "iopub.status.idle": "2022-04-06T03:21:13.849146Z",
     "shell.execute_reply": "2022-04-06T03:21:13.848799Z",
     "shell.execute_reply.started": "2022-04-06T03:21:13.848768Z"
    }
   },
   "outputs": [],
   "source": [
    "#Show the image of the tooltip-labeled starfield (hover over stars with the mouse)\n",
    "ap.showimage(imR,stars=sources,invert=True)\n",
    "\n",
    "#Or with all stars labeled\n",
    "ap.showimage(imR,stars=sources,starid='label')\n",
    "\n",
    "#Print a table of the stars and their aperture corrected magnitudes and \n",
    "#uncertainties. These are your measurements of instrumental magnitudes\n",
    "for i,m in enumerate(imag):\n",
    "    print('%4d %7.3f +/- %5.3f (stat) %5.3f (sys)' % (sources['id'][i]-1,m,ierr[i],isys))"
   ]
  },
  {
   "cell_type": "code",
   "execution_count": null,
   "metadata": {
    "execution": {
     "iopub.status.busy": "2022-04-06T03:21:13.850842Z",
     "iopub.status.idle": "2022-04-06T03:21:13.851591Z",
     "shell.execute_reply": "2022-04-06T03:21:13.851215Z",
     "shell.execute_reply.started": "2022-04-06T03:21:13.851184Z"
    }
   },
   "outputs": [],
   "source": [
    "#Repeat the process for another image, but with stars found in the first image\n",
    "#This is useful if the automated star finder doesn't pick up all of the stars\n",
    "#you need in each image, or to save you work/confusion trying to match star IDs\n",
    "#multiple times.\n",
    "\n",
    "import astropy.wcs as wcs\n",
    "imV = CCDData.read('PG1323-085-001V.wcs.fit')\n",
    "wcsR = wcs.WCS(imR.header)\n",
    "wcsV = wcs.WCS(imV.header)\n",
    "Rstarxy = np.transpose((sources['xcentroid'],sources['ycentroid']))\n",
    "radec = wcsR.all_pix2world(Rstarxy,1)\n",
    "Vstarxy = wcsV.all_world2pix(radec,1)\n",
    "\n",
    "ap.showimage(imV,stars=Vstarxy,starid='label')\n",
    "\n",
    "\n",
    "#Generate a growth curve (i.e., measure fluxes at a range of aperture \n",
    "#sizes for all stars)\n",
    "rapV,magV,errV,apersV = ap.growthCurve(imV,Vstarxy)\n",
    "\n",
    "#Apply an aperture correction for a chosen optimal aperture radius\n",
    "imagV,ierrV,isysV,apCorrV = ap.apertureCorrection(rapV,magV,errV,optap=[2,4,5],\n",
    "                                              stoppingAperture=stoppingApertureRadius,\n",
    "                                              stars=useForAppCorr)\n",
    "\n",
    "for i,m in enumerate(imagV):\n",
    "    print('%4d %7.3f +/- %5.3f (stat) %5.3f (sys)' % (sources['id'][i]-1,m,ierr[i],isys))"
   ]
  },
  {
   "cell_type": "code",
   "execution_count": null,
   "metadata": {
    "execution": {
     "iopub.status.busy": "2022-04-06T03:21:13.854679Z",
     "iopub.status.idle": "2022-04-06T03:21:13.855334Z",
     "shell.execute_reply": "2022-04-06T03:21:13.854990Z",
     "shell.execute_reply.started": "2022-04-06T03:21:13.854960Z"
    }
   },
   "outputs": [],
   "source": [
    "#You might need to read values from the header\n",
    "imR.header['AIRMASS']"
   ]
  },
  {
   "cell_type": "code",
   "execution_count": null,
   "metadata": {},
   "outputs": [],
   "source": []
  }
 ],
 "metadata": {
  "kernelspec": {
   "display_name": "Python 3.8 (py38)",
   "language": "python",
   "name": "py38"
  },
  "language_info": {
   "codemirror_mode": {
    "name": "ipython",
    "version": 3
   },
   "file_extension": ".py",
   "mimetype": "text/x-python",
   "name": "python",
   "nbconvert_exporter": "python",
   "pygments_lexer": "ipython3",
   "version": "3.8.5"
  }
 },
 "nbformat": 4,
 "nbformat_minor": 4
}
