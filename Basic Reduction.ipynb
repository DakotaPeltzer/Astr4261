{
 "cells": [
  {
   "cell_type": "markdown",
   "metadata": {
    "tags": []
   },
   "source": [
    "# Introduction\n",
    "\n",
    "This is a basic pseudo-code outline for how to perform basic reduction and calibration on HRPO data. You will need to write the code and reduction processes using CCDproc and the other appropriate packages.\n",
    "\n",
    "# Code outline\n",
    "\n",
    "1. Import necessary packages\n",
    "2. Gather all data\n",
    "3. Prepare for reduction\n",
    "    - Make master bias\n",
    "    - Make master dark\n",
    "    - Make master flat(s)\n",
    "4. Reduce the data\n",
    "    - Use ccd_process to perform reduction and calibration\n",
    "    - Optional: Plate solve images\n",
    "    - Write out calibrated and solved data to a different directory, or with a different name\n",
    "---"
   ]
  },
  {
   "cell_type": "markdown",
   "metadata": {},
   "source": [
    "### Name: \n",
    "0. Rename this notebook so that it has your name in it and put your name in the comment above.\n",
    "1. Import all of the necessary packages:\n",
    "    - os\n",
    "    - sys\n",
    "    - numpy\n",
    "    - ccdproc\n",
    "    - astropy.units\n",
    "    - aperturePhot.show_image\n",
    "    "
   ]
  },
  {
   "cell_type": "code",
   "execution_count": 73,
   "metadata": {
    "execution": {
     "iopub.execute_input": "2022-02-18T02:42:09.539447Z",
     "iopub.status.busy": "2022-02-18T02:42:09.539006Z",
     "iopub.status.idle": "2022-02-18T02:42:09.553254Z",
     "shell.execute_reply": "2022-02-18T02:42:09.551455Z",
     "shell.execute_reply.started": "2022-02-18T02:42:09.539364Z"
    },
    "tags": []
   },
   "outputs": [],
   "source": [
    "%matplotlib inline\n",
    "\n",
    "import sys\n",
    "sys.path.append('/home/idies/workspace/Storage/Dakota_Peltzer/persistent/hrpo-pipeline') #Change this so that it is your hrpo-pipeline directory.\n",
    "import aperturePhot as ap\n",
    "\n",
    "import numpy as np\n",
    "import ccdproc as ccdp\n",
    "\n",
    "#from astropy.nddata import CCDData\n",
    "import os\n",
    "from pathlib import Path\n",
    "\n",
    "import astropy.units "
   ]
  },
  {
   "cell_type": "markdown",
   "metadata": {},
   "source": [
    "2. Gather all data\n",
    "\n",
    "Define a string to store the path to the data directory you are working in.\n",
    "Use *os.path.join* to merge together the string \"/home/idies/workspace/\" with the data directory path string.\n",
    "\n",
    "Use *os.chdir* to move into the data directory. This will let us use relative paths instead of absolute.\n",
    "\n",
    "`\n",
    "base = \"/home/idies/workspace/\"\n",
    "data_dir = \"\"\n",
    "\n",
    "path = os.path.join(...)\n",
    "os.chdir(path)\n",
    "`\n",
    "\n",
    "Use the conditional *os.path.exists* to check if there is a directory called \"reduced\" in the current directory. If there isn't, then make it with os.mkdir\n",
    "\n",
    "In python you can check a condition with an if statement such as:\n",
    "\n",
    "`\n",
    "if condition:\n",
    "     do something\n",
    "`\n",
    "Use *ccdp.ImageFileCollection* on the current directory to get a list of of all the images in the current directory as strings. I refer to this complete collection as *images*\n",
    "`\n",
    "images = ccdp.ImageFileCollection(...)\n",
    "`\n"
   ]
  },
  {
   "cell_type": "code",
   "execution_count": 74,
   "metadata": {
    "execution": {
     "iopub.execute_input": "2022-02-18T02:42:09.555470Z",
     "iopub.status.busy": "2022-02-18T02:42:09.555056Z",
     "iopub.status.idle": "2022-02-18T02:42:09.564305Z",
     "shell.execute_reply": "2022-02-18T02:42:09.562491Z",
     "shell.execute_reply.started": "2022-02-18T02:42:09.555425Z"
    },
    "tags": []
   },
   "outputs": [],
   "source": [
    "os.chdir('/home/idies/workspace/Temporary/Dakota_Peltzer/scratch/20220125')"
   ]
  },
  {
   "cell_type": "code",
   "execution_count": 75,
   "metadata": {
    "execution": {
     "iopub.execute_input": "2022-02-18T02:42:09.566779Z",
     "iopub.status.busy": "2022-02-18T02:42:09.566349Z",
     "iopub.status.idle": "2022-02-18T02:42:09.902231Z",
     "shell.execute_reply": "2022-02-18T02:42:09.900340Z",
     "shell.execute_reply.started": "2022-02-18T02:42:09.566735Z"
    },
    "tags": []
   },
   "outputs": [
    {
     "name": "stdout",
     "output_type": "stream",
     "text": [
      "       file       simple bitpix ... flipstat         swowner          filter \n",
      "----------------- ------ ------ ... -------- ----------------------- --------\n",
      "     Bias-001.fit   True     16 ...          LSU Physics-Astronomy-1       --\n",
      "     Bias-002.fit   True     16 ...          LSU Physics-Astronomy-1       --\n",
      "     Bias-003.fit   True     16 ...          LSU Physics-Astronomy-1       --\n",
      "     Bias-004.fit   True     16 ...          LSU Physics-Astronomy-1       --\n",
      "     Bias-005.fit   True     16 ...          LSU Physics-Astronomy-1       --\n",
      "     Bias-006.fit   True     16 ...          LSU Physics-Astronomy-1       --\n",
      "     Bias-007.fit   True     16 ...          LSU Physics-Astronomy-1       --\n",
      "     Bias-008.fit   True     16 ...          LSU Physics-Astronomy-1       --\n",
      "     Bias-009.fit   True     16 ...          LSU Physics-Astronomy-1       --\n",
      "     Bias-010.fit   True     16 ...          LSU Physics-Astronomy-1       --\n",
      "     Dark-001.fit   True     16 ...          LSU Physics-Astronomy-1       --\n",
      "     Dark-002.fit   True     16 ...          LSU Physics-Astronomy-1       --\n",
      "     Dark-003.fit   True     16 ...          LSU Physics-Astronomy-1       --\n",
      "     Dark-004.fit   True     16 ...          LSU Physics-Astronomy-1       --\n",
      "     Dark-005.fit   True     16 ...          LSU Physics-Astronomy-1       --\n",
      "Domeflat-001V.fit   True     16 ...          LSU Physics-Astronomy-1 Bessel V\n",
      "Domeflat-002V.fit   True     16 ...          LSU Physics-Astronomy-1 Bessel V\n",
      "Domeflat-003V.fit   True     16 ...          LSU Physics-Astronomy-1 Bessel V\n",
      "Domeflat-004V.fit   True     16 ...          LSU Physics-Astronomy-1 Bessel V\n",
      "Domeflat-005V.fit   True     16 ...          LSU Physics-Astronomy-1 Bessel V\n"
     ]
    }
   ],
   "source": [
    "base = \"/home/idies/workspace/\"\n",
    "\n",
    "data_dir = \"Temporary/Dakota_Peltzer/scratch/20220125\"\n",
    "\n",
    "path = os.path.join(base,data_dir)\n",
    "\n",
    "os.chdir(path)\n",
    "\n",
    "if not os.path.exists(\"reduced\"):\n",
    "    os.mkdir(\"reduced\")\n",
    "\n",
    "images = ccdp.ImageFileCollection('/home/idies/workspace/Temporary/Dakota_Peltzer/scratch/20220125')\n",
    "print(images.summary)\n",
    "#path ='/home/idies/workspace/Temporary/Dakota_Peltzer/scratch/20220125'"
   ]
  },
  {
   "cell_type": "markdown",
   "metadata": {},
   "source": [
    "3. Reduction Preparation: Make master bias\n",
    "\n",
    "Use *images.filter* to get only the images with *imagetyp=\"Bias Frame\"*.\n",
    "\n",
    "Create a master bias frame with *ccdp.combine* on your list of bias frames. Use the median method and specify that *unit=\"adu\"*. I will refer to this master bias frame as *mbias*\n",
    "\n",
    "Save the master bias with *mbias.write* to \"reduced/mbias.fit\", flag write to *overwrite=True* in case we rerun this entire script on this same directory multiple times.\n",
    "\n",
    "`\n",
    "biases = images.filter( ... )\n",
    "mbias = ccdp.combine(biases, ... )\n",
    "mbias.write( ...)\n",
    "`"
   ]
  },
  {
   "cell_type": "code",
   "execution_count": 79,
   "metadata": {
    "execution": {
     "iopub.execute_input": "2022-02-18T02:42:25.209605Z",
     "iopub.status.busy": "2022-02-18T02:42:25.209044Z",
     "iopub.status.idle": "2022-02-18T02:42:34.587785Z",
     "shell.execute_reply": "2022-02-18T02:42:34.585836Z",
     "shell.execute_reply.started": "2022-02-18T02:42:25.209555Z"
    },
    "tags": []
   },
   "outputs": [],
   "source": [
    "biases = images.files_filtered(imagetyp = \"Bias Frame\" )\n",
    "\n",
    "mbias = ccdp.combine(biases, method = 'median', unit = 'adu' )\n",
    "\n",
    "mbias.write(\"reduced/mbias.fit\",overwrite = True)"
   ]
  },
  {
   "cell_type": "markdown",
   "metadata": {},
   "source": [
    "4. Reduction Preparation: Make master dark\n",
    "\n",
    "Use images.files_filtered to get only the images with imagetyp=\"Dark Frame\". I will refer to this collection as *darks*.\n",
    "\n",
    "Create two empty lists, one to store the reduced darks and one to store the exposure time of each frame. I will refer to this as *exptimes*\n",
    "\n",
    "Use a for loop to iterate over *darks.ccds* . Subtract the *mbias* from each image with *ccdp.subtract_bias* and append it to the first empty list, append to the second empty list the exposure time from the header.\n",
    "\n",
    "```\n",
    "exptimes = []\n",
    "red_darks = []\n",
    "darks = filtered collection\n",
    "\n",
    "\n",
    "for ccd in darks.ccds():\n",
    "    ccd = bias subtracted dark\n",
    "    Append the cleaned ccd to the red_darks list\n",
    "    Append ccd.header[\"exptime\"] to the exposure time list.\n",
    "```\n",
    "\n",
    "After this, convert your exposure times list to a numpy array. \n",
    "\n",
    "Create master dark frame with *ccdp.combine*. Use the median method, set *scale=1/exptimes*, and set *unit=\"adu\"*. I will refer to this as *mdark*\n",
    "\n",
    "Set the \"exposure\" and \"exptime\" header keywords in *mdark.header* to 1.\n",
    "\n",
    "Save *mdark* in the reduced data directory.\n",
    "\n",
    "```\n",
    "exptimes = np.array(exptimes)\n",
    "mdark = ccdp.combine (red_darks, ...)\n",
    "mdark.header[\"exptime\"] = 1\n",
    "mdark.header[\"exposure\"] = 1\n",
    "\n",
    "mdark.write(...)\n",
    "\n",
    "```"
   ]
  },
  {
   "cell_type": "code",
   "execution_count": 82,
   "metadata": {
    "execution": {
     "iopub.execute_input": "2022-02-18T02:44:08.625290Z",
     "iopub.status.busy": "2022-02-18T02:44:08.624544Z",
     "iopub.status.idle": "2022-02-18T02:44:13.225482Z",
     "shell.execute_reply": "2022-02-18T02:44:13.223483Z",
     "shell.execute_reply.started": "2022-02-18T02:44:08.625233Z"
    },
    "tags": []
   },
   "outputs": [],
   "source": [
    "darks = images.filter(imagetyp = \"Dark Frame\")\n",
    "\n",
    "exptimes = []\n",
    "red_darks = []\n",
    "\n",
    "\n",
    "\n",
    "for dark in darks.ccds(ccd_kwargs = {\"unit\":\"adu\"}):\n",
    "    ccd = ccdp.subtract_bias(dark, mbias)\n",
    "    red_darks.append(ccd)\n",
    "    exptimes.append(ccd.header[\"exptime\"]) \n",
    "\n",
    "exptimes = np.array(exptimes)\n",
    "mdark = ccdp.combine(red_darks, method = 'median', scale=1/exptimes, unit = 'adu')\n",
    "mdark.header[\"exptime\"] = 1\n",
    "mdark.header[\"exposure\"] = 1\n",
    "\n",
    "mdark.write(\"reduced/mdark.fit\",overwrite = True)\n"
   ]
  },
  {
   "cell_type": "markdown",
   "metadata": {},
   "source": [
    "5. Reduction Preparation: Make the master flat frames\n",
    "\n",
    "Flat frames have the added complication that they are specific to each filter. Using nested for loops, we can save from writing the same code multiple times.\n",
    "\n",
    "Define a list of filter names as strings\n",
    "\n",
    "Create an empty dictionary to store our master flats for later.\n",
    "\n",
    "Iterate over the filters in the outer loop.\n",
    "\n",
    "Use *images.files_filtered* with *imagetyp=\"Flat Field\"* as well as *filter=filt*.\n",
    "\n",
    "Create empty list to store reduced flats.\n",
    "\n",
    "Iterate over the flat ccds. Bias subtract, dark subtract with *scale=True, exposure_unit=u.s, exposure_time='exptime'*.\n",
    "\n",
    "Append reduced flat to *red_flats*.\n",
    "\n",
    "I present one way to make a unique filename for each filter's flat. There are a variety of things you can do here though.\n",
    "\n",
    "Use *ccdp.combie* on the reduced flats. Write out the flat to the reduced directory with the filename.\n",
    "\n",
    "Add a memory copy of the mflat to the dictionary with the key set to the filter name.\n",
    "\n",
    "```\n",
    "filters = [\"Bessel B\", \"Bessel V\", \"Bessel R\"]\n",
    "mflats = {}\n",
    "\n",
    "for filt in filters:\n",
    "    flats = files.filter( ... )\n",
    "    red_flats = []\n",
    "    \n",
    "    for flat in flats.ccds():\n",
    "        flat = bias subtract\n",
    "        flat = dark subtract, scale=True, exposure_unit=u.s\n",
    "        Append flat to red_flats\n",
    "    \n",
    "    filt_string = filter.replace(\" \", \"_\")\n",
    "    fname = filt_string+\"flat.fit\"\n",
    "    \n",
    "    mflat = ccdp.combine(red_flats, ...)\n",
    "    mflat.write(...)\n",
    "    mflats[filt] = mflat.copy()\n",
    "```"
   ]
  },
  {
   "cell_type": "code",
   "execution_count": 89,
   "metadata": {
    "execution": {
     "iopub.execute_input": "2022-02-18T02:54:07.215878Z",
     "iopub.status.busy": "2022-02-18T02:54:07.214052Z",
     "iopub.status.idle": "2022-02-18T02:54:13.624172Z",
     "shell.execute_reply": "2022-02-18T02:54:13.622221Z",
     "shell.execute_reply.started": "2022-02-18T02:54:07.215823Z"
    },
    "tags": []
   },
   "outputs": [
    {
     "name": "stdout",
     "output_type": "stream",
     "text": [
      "[CCDData([[15233., 15144., 15364., ..., 15307., 15078., 15148.],\n",
      "         [15334., 15369., 15189., ..., 15075., 15119., 15205.],\n",
      "         [15269., 15460., 15311., ..., 15015., 15079., 15216.],\n",
      "         ...,\n",
      "         [15201., 15268., 15184., ..., 15123., 15251., 15378.],\n",
      "         [15263., 15197., 15157., ..., 15294., 15312., 15194.],\n",
      "         [15321., 15356., 15262., ..., 15186., 15210., 15240.]], unit='adu'), CCDData([[15294., 15280., 15283., ..., 15153., 15289., 15207.],\n",
      "         [15351., 15463., 15435., ..., 15270., 15130., 15206.],\n",
      "         [15448., 15582., 15451., ..., 15249., 15103., 15248.],\n",
      "         ...,\n",
      "         [15231., 15365., 15359., ..., 15293., 15417., 15356.],\n",
      "         [15282., 15267., 15299., ..., 15422., 15552., 15321.],\n",
      "         [15437., 15179., 15346., ..., 15448., 15400., 15309.]], unit='adu'), CCDData([[15236., 15512., 15312., ..., 15269., 15382., 15302.],\n",
      "         [15409., 15365., 15520., ..., 15126., 15264., 15306.],\n",
      "         [15518., 15636., 15556., ..., 15262., 15191., 15157.],\n",
      "         ...,\n",
      "         [15470., 15298., 15327., ..., 15326., 15471., 15417.],\n",
      "         [15417., 15242., 15295., ..., 15522., 15490., 15396.],\n",
      "         [15336., 15376., 15435., ..., 15516., 15379., 15347.]], unit='adu'), CCDData([[15362., 15547., 15379., ..., 15344., 15423., 15269.],\n",
      "         [15386., 15559., 15514., ..., 15241., 15212., 15335.],\n",
      "         [15561., 15554., 15509., ..., 15435., 15110., 15129.],\n",
      "         ...,\n",
      "         [15291., 15453., 15428., ..., 15337., 15520., 15436.],\n",
      "         [15456., 15323., 15275., ..., 15471., 15346., 15415.],\n",
      "         [15306., 15318., 15267., ..., 15297., 15416., 15454.]], unit='adu'), CCDData([[15271., 15437., 15379., ..., 15226., 15399., 15217.],\n",
      "         [15427., 15659., 15498., ..., 15097., 15290., 15429.],\n",
      "         [15399., 15640., 15403., ..., 15241., 15240., 15465.],\n",
      "         ...,\n",
      "         [15353., 15401., 15533., ..., 15513., 15370., 15467.],\n",
      "         [15338., 15205., 15332., ..., 15516., 15443., 15378.],\n",
      "         [15360., 15426., 15334., ..., 15308., 15517., 15312.]], unit='adu')]\n"
     ]
    }
   ],
   "source": [
    "filters = [\"Bessel V\"]\n",
    "mflats = {}\n",
    "\n",
    "#print(images.summary)\n",
    "\n",
    "for filt in filters:\n",
    "    flats = images.filter(object=\"Domeflat\", filter=filt)\n",
    "    red_flats = []\n",
    "    \n",
    "    #print(flats.summary)\n",
    "    \n",
    "    for flat in flats.ccds(ccd_kwargs = {\"unit\":\"adu\"}):\n",
    "        flat = ccdp.subtract_bias(flat,mbias)\n",
    "        flat = ccdp.subtract_dark(flat,mdark, scale=True, exposure_unit=u.s, exposure_time='exptime')\n",
    "        red_flats.append(flat)\n",
    "    \n",
    "    filt_string = filt.replace(\" \", \"_\")\n",
    "    fname = filt_string+\"flat.fit\"\n",
    "    \n",
    "    print(red_flats)\n",
    "    \n",
    "    mflat = ccdp.combine(red_flats,method='median',unit='adu')\n",
    "    mflat.write(\"reduced/%s.fit\" % (filt), overwrite= True)\n",
    "    mflats[filt] = mflat.copy()"
   ]
  },
  {
   "cell_type": "markdown",
   "metadata": {},
   "source": [
    "6. Reduce the data\n",
    "\n",
    "Grab a list of all of the imagetyp=\"Light Frame\".\n",
    "\n",
    "Iterate over the Light Frame ccds.\n",
    "\n",
    "Use the all-in-one *ccdp.ccd_process* on the ccd with *master_bias=mbias*, *dark_frame=mdark*, *master_flat=mflats[ccd.header[\"Filter\"]]* ,*dark_scale=True, exposure_unit=u.s, exposure_key='exptime' *\n",
    "\n",
    "Write out the reduced ccd to the reduced data directory\n",
    "```\n",
    "lights = ccdp.filter( ... )\n",
    "\n",
    "for light in lights.ccds():\n",
    "    light = ccdp.ccd_process( ...)\n",
    "    light.write( ...)\n",
    "```"
   ]
  },
  {
   "cell_type": "code",
   "execution_count": 93,
   "metadata": {
    "execution": {
     "iopub.execute_input": "2022-02-18T03:12:14.523213Z",
     "iopub.status.busy": "2022-02-18T03:12:14.521127Z",
     "iopub.status.idle": "2022-02-18T03:12:14.539859Z",
     "shell.execute_reply": "2022-02-18T03:12:14.537938Z",
     "shell.execute_reply.started": "2022-02-18T03:12:14.523160Z"
    },
    "tags": []
   },
   "outputs": [],
   "source": [
    "lights = images.filter(imagetyp=\"Light Frame\")\n",
    "\n",
    "for light in lights.ccds():\n",
    "    light = ccdp.ccd_process(master_bias=mbias, dark_frame=mdark, master_flat=mflats[ccd.header[\"Filter\"]] ,dark_scale=True, exposure_unit=u.s, exposure_key='exptime' )\n",
    "    light.write(\"reduced/light.fit\", overwrite=True)"
   ]
  },
  {
   "cell_type": "code",
   "execution_count": null,
   "metadata": {},
   "outputs": [],
   "source": []
  }
 ],
 "metadata": {
  "kernelspec": {
   "display_name": "Python 3.8 (py38)",
   "language": "python",
   "name": "py38"
  },
  "language_info": {
   "codemirror_mode": {
    "name": "ipython",
    "version": 3
   },
   "file_extension": ".py",
   "mimetype": "text/x-python",
   "name": "python",
   "nbconvert_exporter": "python",
   "pygments_lexer": "ipython3",
   "version": "3.8.5"
  }
 },
 "nbformat": 4,
 "nbformat_minor": 4
}
