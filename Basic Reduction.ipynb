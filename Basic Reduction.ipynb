{
 "cells": [
  {
   "cell_type": "markdown",
   "metadata": {
    "tags": []
   },
   "source": [
    "# Introduction\n",
    "\n",
    "This is a basic pseudo-code outline for how to perform basic reduction and calibration on HRPO data. You will need to write the code and reduction processes using CCDproc and the other appropriate packages.\n",
    "\n",
    "# Code outline\n",
    "\n",
    "1. Import necessary packages\n",
    "2. Gather all data\n",
    "3. Prepare for reduction\n",
    "    - Make master bias\n",
    "    - Make master dark\n",
    "    - Make master flat(s)\n",
    "4. Reduce the data\n",
    "    - Use ccd_process to perform reduction and calibration\n",
    "    - Optional: Plate solve images\n",
    "    - Write out calibrated and solved data to a different directory, or with a different name\n",
    "---"
   ]
  },
  {
   "cell_type": "markdown",
   "metadata": {},
   "source": [
    "### Name: \n",
    "0. Rename this notebook so that it has your name in it and put your name in the comment above.\n",
    "1. Import all of the necessary packages:\n",
    "    - os\n",
    "    - sys\n",
    "    - numpy\n",
    "    - ccdproc\n",
    "    - astropy.units\n",
    "    - aperturePhot.show_image\n",
    "    "
   ]
  },
  {
   "cell_type": "code",
   "execution_count": 44,
   "metadata": {
    "execution": {
     "iopub.execute_input": "2022-02-16T03:43:50.535509Z",
     "iopub.status.busy": "2022-02-16T03:43:50.523807Z",
     "iopub.status.idle": "2022-02-16T03:43:50.549232Z",
     "shell.execute_reply": "2022-02-16T03:43:50.547307Z",
     "shell.execute_reply.started": "2022-02-16T03:43:50.535447Z"
    },
    "tags": []
   },
   "outputs": [],
   "source": [
    "%matplotlib inline\n",
    "\n",
    "import sys\n",
    "sys.path.append('/home/idies/workspace/Storage/Dakota_Peltzer/persistent/hrpo-pipeline') #Change this so that it is your hrpo-pipeline directory.\n",
    "import aperturePhot as ap\n",
    "\n",
    "import numpy as np\n",
    "import ccdproc as ccdp\n",
    "\n",
    "#from astropy.nddata import CCDData\n",
    "import os\n",
    "from pathlib import Path\n",
    "\n",
    "import astropy.units "
   ]
  },
  {
   "cell_type": "markdown",
   "metadata": {},
   "source": [
    "2. Gather all data\n",
    "\n",
    "Define a string to store the path to the data directory you are working in.\n",
    "Use *os.path.join* to merge together the string \"/home/idies/workspace/\" with the data directory path string.\n",
    "\n",
    "Use *os.chdir* to move into the data directory. This will let us use relative paths instead of absolute.\n",
    "\n",
    "`\n",
    "base = \"/home/idies/workspace/\"\n",
    "data_dir = \"\"\n",
    "\n",
    "path = os.path.join(...)\n",
    "os.chdir(path)\n",
    "`\n",
    "\n",
    "Use the conditional *os.path.exists* to check if there is a directory called \"reduced\" in the current directory. If there isn't, then make it with os.mkdir\n",
    "\n",
    "In python you can check a condition with an if statement such as:\n",
    "\n",
    "`\n",
    "if condition:\n",
    "     do something\n",
    "`\n",
    "Use *ccdp.ImageFileCollection* on the current directory to get a list of of all the images in the current directory as strings. I refer to this complete collection as *images*\n",
    "`\n",
    "images = ccdp.ImageFileCollection(...)\n",
    "`\n"
   ]
  },
  {
   "cell_type": "code",
   "execution_count": 38,
   "metadata": {
    "execution": {
     "iopub.execute_input": "2022-02-16T03:39:40.370557Z",
     "iopub.status.busy": "2022-02-16T03:39:40.369996Z",
     "iopub.status.idle": "2022-02-16T03:39:40.379463Z",
     "shell.execute_reply": "2022-02-16T03:39:40.377704Z",
     "shell.execute_reply.started": "2022-02-16T03:39:40.370508Z"
    },
    "tags": []
   },
   "outputs": [],
   "source": [
    "os.chdir('/home/idies/workspace/Temporary/Dakota_Peltzer/scratch/20220125')"
   ]
  },
  {
   "cell_type": "code",
   "execution_count": 48,
   "metadata": {
    "execution": {
     "iopub.execute_input": "2022-02-16T03:46:52.342461Z",
     "iopub.status.busy": "2022-02-16T03:46:52.341707Z",
     "iopub.status.idle": "2022-02-16T03:46:52.727118Z",
     "shell.execute_reply": "2022-02-16T03:46:52.724831Z",
     "shell.execute_reply.started": "2022-02-16T03:46:52.342354Z"
    },
    "tags": []
   },
   "outputs": [
    {
     "name": "stdout",
     "output_type": "stream",
     "text": [
      "       file       simple bitpix ... flipstat         swowner          filter \n",
      "----------------- ------ ------ ... -------- ----------------------- --------\n",
      "     Bias-001.fit   True     16 ...          LSU Physics-Astronomy-1       --\n",
      "     Bias-002.fit   True     16 ...          LSU Physics-Astronomy-1       --\n",
      "     Bias-003.fit   True     16 ...          LSU Physics-Astronomy-1       --\n",
      "     Bias-004.fit   True     16 ...          LSU Physics-Astronomy-1       --\n",
      "     Bias-005.fit   True     16 ...          LSU Physics-Astronomy-1       --\n",
      "     Bias-006.fit   True     16 ...          LSU Physics-Astronomy-1       --\n",
      "     Bias-007.fit   True     16 ...          LSU Physics-Astronomy-1       --\n",
      "     Bias-008.fit   True     16 ...          LSU Physics-Astronomy-1       --\n",
      "     Bias-009.fit   True     16 ...          LSU Physics-Astronomy-1       --\n",
      "     Bias-010.fit   True     16 ...          LSU Physics-Astronomy-1       --\n",
      "     Dark-001.fit   True     16 ...          LSU Physics-Astronomy-1       --\n",
      "     Dark-002.fit   True     16 ...          LSU Physics-Astronomy-1       --\n",
      "     Dark-003.fit   True     16 ...          LSU Physics-Astronomy-1       --\n",
      "     Dark-004.fit   True     16 ...          LSU Physics-Astronomy-1       --\n",
      "     Dark-005.fit   True     16 ...          LSU Physics-Astronomy-1       --\n",
      "Domeflat-001V.fit   True     16 ...          LSU Physics-Astronomy-1 Bessel V\n",
      "Domeflat-002V.fit   True     16 ...          LSU Physics-Astronomy-1 Bessel V\n",
      "Domeflat-003V.fit   True     16 ...          LSU Physics-Astronomy-1 Bessel V\n",
      "Domeflat-004V.fit   True     16 ...          LSU Physics-Astronomy-1 Bessel V\n",
      "Domeflat-005V.fit   True     16 ...          LSU Physics-Astronomy-1 Bessel V\n"
     ]
    }
   ],
   "source": [
    "base = \"/home/idies/workspace/\"\n",
    "\n",
    "data_dir = \"Temporary/Dakota_Peltzer/scratch/20220125\"\n",
    "\n",
    "path = os.path.join(base,data_dir)\n",
    "\n",
    "os.chdir(path)\n",
    "\n",
    "if not os.path.exists(\"reduced\"):\n",
    "    os.mkdir(\"reduced\")\n",
    "\n",
    "images = ccdp.ImageFileCollection('/home/idies/workspace/Temporary/Dakota_Peltzer/scratch/20220125')\n",
    "print(images.summary)\n",
    "#path ='/home/idies/workspace/Temporary/Dakota_Peltzer/scratch/20220125'"
   ]
  },
  {
   "cell_type": "markdown",
   "metadata": {},
   "source": [
    "3. Reduction Preparation: Make master bias\n",
    "\n",
    "Use *images.filter* to get only the images with *imagetyp=\"Bias Frame\"*.\n",
    "\n",
    "Create a master bias frame with *ccdp.combine* on your list of bias frames. Use the median method and specify that *unit=\"adu\"*. I will refer to this master bias frame as *mbias*\n",
    "\n",
    "Save the master bias with *mbias.write* to \"reduced/mbias.fit\", flag write to *overwrite=True* in case we rerun this entire script on this same directory multiple times.\n",
    "\n",
    "`\n",
    "biases = images.filter( ... )\n",
    "mbias = ccdp.combine(biases, ... )\n",
    "mbias.write( ...)\n",
    "`"
   ]
  },
  {
   "cell_type": "code",
   "execution_count": 50,
   "metadata": {
    "execution": {
     "iopub.execute_input": "2022-02-16T03:51:01.367630Z",
     "iopub.status.busy": "2022-02-16T03:51:01.366811Z",
     "iopub.status.idle": "2022-02-16T03:51:10.153189Z",
     "shell.execute_reply": "2022-02-16T03:51:10.151146Z",
     "shell.execute_reply.started": "2022-02-16T03:51:01.367546Z"
    },
    "tags": []
   },
   "outputs": [],
   "source": [
    "biases = images.files_filtered(imagetyp = \"Bias Frame\" )\n",
    "\n",
    "mbias = ccdp.combine(biases, method = 'median', unit = 'adu' )\n",
    "\n",
    "mbias.write(\"reduced/mbias.fit\",overwrite = True)"
   ]
  },
  {
   "cell_type": "markdown",
   "metadata": {},
   "source": [
    "4. Reduction Preparation: Make master dark\n",
    "\n",
    "Use images.files_filtered to get only the images with imagetyp=\"Dark Frame\". I will refer to this collection as *darks*.\n",
    "\n",
    "Create two empty lists, one to store the reduced darks and one to store the exposure time of each frame. I will refer to this as *exptimes*\n",
    "\n",
    "Use a for loop to iterate over *darks.ccds* . Subtract the *mbias* from each image with *ccdp.subtract_bias* and append it to the first empty list, append to the second empty list the exposure time from the header.\n",
    "\n",
    "```\n",
    "exptimes = []\n",
    "red_darks = []\n",
    "darks = filtered collection\n",
    "\n",
    "\n",
    "for ccd in darks.ccds():\n",
    "    ccd = bias subtracted dark\n",
    "    Append the cleaned ccd to the red_darks list\n",
    "    Append ccd.header[\"exptime\"] to the exposure time list.\n",
    "```\n",
    "\n",
    "After this, convert your exposure times list to a numpy array. \n",
    "\n",
    "Create master dark frame with *ccdp.combine*. Use the median method, set *scale=1/exptimes*, and set *unit=\"adu\"*. I will refer to this as *mdark*\n",
    "\n",
    "Set the \"exposure\" and \"exptime\" header keywords in *mdark.header* to 1.\n",
    "\n",
    "Save *mdark* in the reduced data directory.\n",
    "\n",
    "```\n",
    "exptimes = np.array(exptimes)\n",
    "mdark = ccdp.combine (red_darks, ...)\n",
    "mdark.header[\"exptime\"] = 1\n",
    "mdark.header[\"exposure\"] = 1\n",
    "\n",
    "mdark.write(...)\n",
    "\n",
    "```"
   ]
  },
  {
   "cell_type": "code",
   "execution_count": 61,
   "metadata": {
    "execution": {
     "iopub.execute_input": "2022-02-16T04:17:26.195963Z",
     "iopub.status.busy": "2022-02-16T04:17:26.195329Z",
     "iopub.status.idle": "2022-02-16T04:17:30.589323Z",
     "shell.execute_reply": "2022-02-16T04:17:30.587481Z",
     "shell.execute_reply.started": "2022-02-16T04:17:26.195912Z"
    },
    "tags": []
   },
   "outputs": [],
   "source": [
    "darks = images.filter(imagetyp = \"Dark Frame\")\n",
    "\n",
    "exptimes = []\n",
    "red_darks = []\n",
    "\n",
    "\n",
    "\n",
    "for dark in darks.ccds(ccd_kwargs = {\"unit\":\"adu\"}):\n",
    "    ccd = ccdp.subtract_bias(dark, mbias)\n",
    "    red_darks.append(ccd)\n",
    "    exptimes.append(ccd.header[\"exptime\"]) \n",
    "    \n",
    "exptimes = np.array(exptimes)\n",
    "mdark = ccdp.combine(red_darks, method = 'median', scale=1/exptimes, unit = 'adu')\n",
    "mdark.header[\"exptime\"] = 1\n",
    "mdark.header[\"exposure\"] = 1\n",
    "\n",
    "mdark.write(\"reduced/mdark.fit\",overwrite = True)\n"
   ]
  },
  {
   "cell_type": "markdown",
   "metadata": {},
   "source": [
    "5. Reduction Preparation: Make the master flat frames\n",
    "\n",
    "Flat frames have the added complication that they are specific to each filter. Using nested for loops, we can save from writing the same code multiple times.\n",
    "\n",
    "Define a list of filter names as strings\n",
    "\n",
    "Create an empty dictionary to store our master flats for later.\n",
    "\n",
    "Iterate over the filters in the outer loop.\n",
    "\n",
    "Use *images.files_filtered* with *imagetyp=\"Flat Field\"* as well as *filter=filt*.\n",
    "\n",
    "Create empty list to store reduced flats.\n",
    "\n",
    "Iterate over the flat ccds. Bias subtract, dark subtract with *scale=True, exposure_unit=u.s, exposure_time='exptime'*.\n",
    "\n",
    "Append reduced flat to *red_flats*.\n",
    "\n",
    "I present one way to make a unique filename for each filter's flat. There are a variety of things you can do here though.\n",
    "\n",
    "Use *ccdp.combie* on the reduced flats. Write out the flat to the reduced directory with the filename.\n",
    "\n",
    "Add a memory copy of the mflat to the dictionary with the key set to the filter name.\n",
    "\n",
    "```\n",
    "filters = [\"Bessel B\", \"Bessel V\", \"Bessel R\"]\n",
    "mflats = {}\n",
    "\n",
    "for filt in filters:\n",
    "    flats = files.filter( ... )\n",
    "    red_flats = []\n",
    "    \n",
    "    for flat in flats.ccds():\n",
    "        flat = bias subtract\n",
    "        flat = dark subtract, scale=True, exposure_unit=u.s\n",
    "        Append flat to red_flats\n",
    "    \n",
    "    filt_string = filter.replace(\" \", \"_\")\n",
    "    fname = filt_string+\"flat.fit\"\n",
    "    \n",
    "    mflat = ccdp.combine(red_flats, ...)\n",
    "    mflat.write(...)\n",
    "    mflats[filt] = mflat.copy()\n",
    "```"
   ]
  },
  {
   "cell_type": "code",
   "execution_count": null,
   "metadata": {},
   "outputs": [],
   "source": []
  },
  {
   "cell_type": "markdown",
   "metadata": {},
   "source": [
    "6. Reduce the data\n",
    "\n",
    "Grab a list of all of the imagetyp=\"Light Frame\".\n",
    "\n",
    "Iterate over the Light Frame ccds.\n",
    "\n",
    "Use the all-in-one *ccdp.ccd_process* on the ccd with *master_bias=mbias*, *dark_frame=mdark*, *master_flat=mflats[ccd.header[\"Filter\"]]* ,*dark_scale=True, exposure_unit=u.s, exposure_key='exptime' *\n",
    "\n",
    "Write out the reduced ccd to the reduced data directory\n",
    "```\n",
    "lights = ccdp.filter( ... )\n",
    "\n",
    "for light in lights.ccds():\n",
    "    light = ccdp.ccd_process( ...)\n",
    "    light.write( ...)\n",
    "```"
   ]
  },
  {
   "cell_type": "code",
   "execution_count": null,
   "metadata": {},
   "outputs": [],
   "source": []
  },
  {
   "cell_type": "code",
   "execution_count": null,
   "metadata": {},
   "outputs": [],
   "source": []
  }
 ],
 "metadata": {
  "kernelspec": {
   "display_name": "Python 3.8 (py38)",
   "language": "python",
   "name": "py38"
  },
  "language_info": {
   "codemirror_mode": {
    "name": "ipython",
    "version": 3
   },
   "file_extension": ".py",
   "mimetype": "text/x-python",
   "name": "python",
   "nbconvert_exporter": "python",
   "pygments_lexer": "ipython3",
   "version": "3.8.5"
  }
 },
 "nbformat": 4,
 "nbformat_minor": 4
}
