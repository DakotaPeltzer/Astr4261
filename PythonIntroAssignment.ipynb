{
 "cells": [
  {
   "cell_type": "markdown",
   "metadata": {},
   "source": [
    "# Assignment 1: Python coding practice\n",
    "\n",
    "You do not need to master python coding to do well in this course, but you do need to learn enough to get by. This assignment aims to reinforce some of the key aspects of the python language that you will use regularly throughout the course.\n",
    "\n",
    "Before trying to complete the assignment, work through each of the sections listed under \"Learn the Basics\" at [learnpython.org](https://www.learnpython.org/). If you would find a video lecture helpful, the LSU's High Performance Computing center offers training in various aspects of computing, including python. You can find a recording of their \"Introduction to Python\" course on their [training archive](http://www.hpc.lsu.edu/training/archive/tutorials.php), as well as a link to interactive \"slides\" that can be used in a similar way to learnpython.org.\n",
    "\n",
    "## Part A: Variables, printing, and control structures\n",
    "\n",
    "1. Write a piece of code to solve the following quadratic equation for $x$:\n",
    "$$\n",
    "2.5 x^2 - 17.5 x - 20.0 = 0\n",
    "$$\n",
    "using the quadratic formula. Use **variables** to store the coefficients, and **print** the solution(s) as part of a single sentence using **string formatting**. Use **comments** to explain what you are doing. You can find basic mathematical functions in the `math` or `numpy` **modules**.\n",
    "Once you are done, run the code, either by pressing the \"play\" button above, or typing Shift+Enter."
   ]
  },
  {
   "cell_type": "code",
   "execution_count": 18,
   "metadata": {
    "execution": {
     "iopub.execute_input": "2022-02-02T04:01:41.517408Z",
     "iopub.status.busy": "2022-02-02T04:01:41.516802Z",
     "iopub.status.idle": "2022-02-02T04:01:41.532167Z",
     "shell.execute_reply": "2022-02-02T04:01:41.530202Z",
     "shell.execute_reply.started": "2022-02-02T04:01:41.517323Z"
    },
    "tags": []
   },
   "outputs": [
    {
     "name": "stdout",
     "output_type": "stream",
     "text": [
      "The two solutions for x are 1.2433981132056604 and -0.6433981132056603.\n"
     ]
    }
   ],
   "source": [
    "import math #math\n",
    "import numpy as np #making numpy shorter for convience \n",
    "a=2.5\n",
    "b=-1.5 \n",
    "c=-2.0 \n",
    "y=0.0 \n",
    "delta=(b**2)-(4*a*c)\n",
    "sol1=((-b)+np.sqrt(delta))/(2*a) #sol1 for x with \"+\"\n",
    "sol2=((-b)-np.sqrt(delta))/(2*a)  #sol2 for x with \"-\"\n",
    "print(\"The two solutions for x are %s and %s.\" %( sol1, sol2))\n"
   ]
  },
  {
   "cell_type": "markdown",
   "metadata": {},
   "source": [
    "2. Try adjusting one or more of the coefficients and run the cell again. Make some notes about what you find in the following markup cell. E.g., First try making some small adjustments to the coefficient values, then try picking coefficients that will give you a complex solution (i.e., where $b^2-4ac<0$)."
   ]
  },
  {
   "cell_type": "markdown",
   "metadata": {},
   "source": [
    "\n",
    "\n",
    "          "
   ]
  },
  {
   "cell_type": "markdown",
   "metadata": {},
   "source": [
    "3. Reset the coefficients to their original values and rerun the cell above. Below, write a **function** to evaluate a general quadratic equation ($y=ax^2+bx+c$), and use this function to check that your solution to the quadratic with the original coefficients is correct. The function should have four arguments: x and the three coefficients. Use an `if` **conditional statement** to print a success or failure message, depending on the result. Again, use **comments** throughout."
   ]
  },
  {
   "cell_type": "code",
   "execution_count": 17,
   "metadata": {
    "execution": {
     "iopub.execute_input": "2022-02-02T04:01:39.458782Z",
     "iopub.status.busy": "2022-02-02T04:01:39.458140Z",
     "iopub.status.idle": "2022-02-02T04:01:39.478782Z",
     "shell.execute_reply": "2022-02-02T04:01:39.476174Z",
     "shell.execute_reply.started": "2022-02-02T04:01:39.458731Z"
    },
    "tags": []
   },
   "outputs": [
    {
     "name": "stdout",
     "output_type": "stream",
     "text": [
      "Real\n",
      "0.0\n"
     ]
    }
   ],
   "source": [
    "def quadeq(a,b,c,x): #defining the function and delta\n",
    "    y=a*(x**2)+b*x+c\n",
    "    delta=(b**2)-(4*a*c)\n",
    "    if delta<0:    #if statements that find if the solutions can be found with the given formula\n",
    "        print(\"DNE\")\n",
    "    if delta>0:\n",
    "        print(\"Real\")\n",
    "    return y\n",
    "y= quadeq(2.5,-17.5,-20.0,8)\n",
    "print(y)"
   ]
  },
  {
   "cell_type": "markdown",
   "metadata": {},
   "source": [
    "4. Try running both cells again after changing the values of the coefficients by small amounts relative to the original values. Make some notes in the markup cell below on whether your code performed differently for different inputs relative to the original coefficient values. Think about what changes you could make to the code to get more reliable performance from it."
   ]
  },
  {
   "cell_type": "markdown",
   "metadata": {},
   "source": [
    " "
   ]
  },
  {
   "cell_type": "markdown",
   "metadata": {},
   "source": [
    "# Part B: Plotting, NumPy, files, and basic polynomial fitting\n",
    "\n",
    "Plotting is going to be essential in the course, so you might as well learn the basics now. The standard python plotting language is called `matplotlib`, and it is easiest to use through its sub-package `pyplot`, which gives you an interface that behaves similarly to Matlab. The [pyplot tutorial](https://matplotlib.org/stable/tutorials/introductory/pyplot.html#sphx-glr-tutorials-introductory-pyplot-py) gives you an introduction to many of the things you might want to do with `pyplot`, but for now we'll make the simplest possible plot. I've put in the outline of the plotting commands below, but you'll need to supply the data to plot. There are many ways to do this, but for now, please write code that meets the following requirements.\n",
    "\n",
    "1. Create a **list** with a series of x values between -6 and 10 that you enter by hand. Create an **empty list** to store the y values. Use a **loop** to **append** a y value to the list for each x value, with the y value computed using the **function** you wrote earlier. This way of doing things may be familiar to you if you've written C or C++ code previously."
   ]
  },
  {
   "cell_type": "code",
   "execution_count": 16,
   "metadata": {
    "execution": {
     "iopub.execute_input": "2022-02-02T04:01:34.457489Z",
     "iopub.status.busy": "2022-02-02T04:01:34.456846Z",
     "iopub.status.idle": "2022-02-02T04:01:34.780333Z",
     "shell.execute_reply": "2022-02-02T04:01:34.778609Z",
     "shell.execute_reply.started": "2022-02-02T04:01:34.457433Z"
    },
    "tags": []
   },
   "outputs": [
    {
     "name": "stdout",
     "output_type": "stream",
     "text": [
      "DNE\n",
      "Real\n",
      "DNE\n",
      "Real\n",
      "Real\n",
      "Real\n",
      "[-5, 7, -3, 6, 8, 4] [-26.5, 21.5, -18.5, 17.5, 25.5, 9.5]\n"
     ]
    },
    {
     "data": {
      "image/png": "[encoded data removed]",
      "text/plain": [
       "<Figure size 432x288 with 1 Axes>"
      ]
     },
     "metadata": {
      "needs_background": "light"
     },
     "output_type": "display_data"
    }
   ],
   "source": [
    "import matplotlib.pyplot as plt #import pyplot and rename it plt for short\n",
    "\n",
    "#Insert code here to produce the lists of x and y values needed by the plot commands below\n",
    "xlist = [-5, 7, -3, 6, 8, 4] #choose random numbers\n",
    "ylist = []\n",
    "\n",
    "\n",
    "for i in range(len(xlist)):\n",
    "    x = xlist[i]\n",
    "    y = quadeq(x, a, b, c)\n",
    "    ylist.append(y)\n",
    "    \n",
    "print(xlist,ylist)\n",
    "\n",
    "    \n",
    "    \n",
    "plt.figure() #set up a figure\n",
    "plt.plot(xlist,ylist, 'o') #issue the plot command\n",
    "plt.xlabel('x') #Set the axis labels\n",
    "plt.ylabel('y')\n",
    "plt.show() #Show the plot"
   ]
  },
  {
   "cell_type": "markdown",
   "metadata": {},
   "source": [
    "Numpy is a package built for performing efficient numerical calculations in python. Python loops are quite inefficient, and loops are common in a lot of numerical calculations. Numpy allows you to perform loops implicitly on list-like objects called arrays. Arrays can have one or more dimensions - a 1-d array is like a list, a 2-d array is like a table or matrix; more dimensions are possible. You can read more about numpy under the Data Science Tutorials heading on learnpython.org.\n",
    "\n",
    "2. Repeat the task of generating the data to plot in the previous cell using **numpy arrays** an **implcit loop**, this time aiming to achieve higher resolution in the plot. You might find the numpy function `linspace` helpful. You can get help on most functions by using the help function, e.g., `help(numpy.linspace)`. Once the data is generated, plot it."
   ]
  },
  {
   "cell_type": "code",
   "execution_count": null,
   "metadata": {},
   "outputs": [],
   "source": [
    "import numpy as np\n",
    "help(np.linspace)"
   ]
  },
  {
   "cell_type": "code",
   "execution_count": 19,
   "metadata": {
    "execution": {
     "iopub.execute_input": "2022-02-02T04:18:10.875610Z",
     "iopub.status.busy": "2022-02-02T04:18:10.874711Z",
     "iopub.status.idle": "2022-02-02T04:18:10.958663Z",
     "shell.execute_reply": "2022-02-02T04:18:10.956198Z",
     "shell.execute_reply.started": "2022-02-02T04:18:10.875537Z"
    }
   },
   "outputs": [
    {
     "ename": "AttributeError",
     "evalue": "module 'numpy' has no attribute 'linespace'",
     "output_type": "error",
     "traceback": [
      "\u001b[0;31m---------------------------------------------------------------------------\u001b[0m",
      "\u001b[0;31mAttributeError\u001b[0m                            Traceback (most recent call last)",
      "\u001b[0;32m/tmp/ipykernel_125/4028419989.py\u001b[0m in \u001b[0;36m<module>\u001b[0;34m\u001b[0m\n\u001b[0;32m----> 1\u001b[0;31m \u001b[0mxvalues\u001b[0m \u001b[0;34m=\u001b[0m \u001b[0mnp\u001b[0m\u001b[0;34m.\u001b[0m\u001b[0mlinespace\u001b[0m\u001b[0;34m(\u001b[0m\u001b[0;34m-\u001b[0m\u001b[0;36m6\u001b[0m\u001b[0;34m,\u001b[0m \u001b[0;36m10\u001b[0m\u001b[0;34m,\u001b[0m \u001b[0mnum\u001b[0m\u001b[0;34m=\u001b[0m\u001b[0;36m6\u001b[0m\u001b[0;34m)\u001b[0m \u001b[0;31m#chose num=6\u001b[0m\u001b[0;34m\u001b[0m\u001b[0;34m\u001b[0m\u001b[0m\n\u001b[0m\u001b[1;32m      2\u001b[0m \u001b[0myvalues\u001b[0m \u001b[0;34m=\u001b[0m \u001b[0;34m[\u001b[0m\u001b[0;34m]\u001b[0m\u001b[0;34m\u001b[0m\u001b[0;34m\u001b[0m\u001b[0m\n\u001b[1;32m      3\u001b[0m \u001b[0;34m\u001b[0m\u001b[0m\n\u001b[1;32m      4\u001b[0m \u001b[0;32mfor\u001b[0m \u001b[0mj\u001b[0m \u001b[0;32min\u001b[0m \u001b[0mrange\u001b[0m\u001b[0;34m(\u001b[0m\u001b[0mlen\u001b[0m\u001b[0;34m(\u001b[0m\u001b[0mxvalues\u001b[0m\u001b[0;34m)\u001b[0m\u001b[0;34m)\u001b[0m\u001b[0;34m:\u001b[0m \u001b[0;31m#Loop over each element in xvalues array\u001b[0m\u001b[0;34m\u001b[0m\u001b[0;34m\u001b[0m\u001b[0m\n\u001b[1;32m      5\u001b[0m     \u001b[0mxval\u001b[0m \u001b[0;34m=\u001b[0m \u001b[0mxvalues\u001b[0m\u001b[0;34m[\u001b[0m\u001b[0mj\u001b[0m\u001b[0;34m]\u001b[0m \u001b[0;31m#define x to be the jth element\u001b[0m\u001b[0;34m\u001b[0m\u001b[0;34m\u001b[0m\u001b[0m\n",
      "\u001b[0;32m~/miniconda3/envs/py38/lib/python3.8/site-packages/numpy/__init__.py\u001b[0m in \u001b[0;36m__getattr__\u001b[0;34m(attr)\u001b[0m\n\u001b[1;32m    311\u001b[0m                 \u001b[0;32mreturn\u001b[0m \u001b[0mTester\u001b[0m\u001b[0;34m\u001b[0m\u001b[0;34m\u001b[0m\u001b[0m\n\u001b[1;32m    312\u001b[0m \u001b[0;34m\u001b[0m\u001b[0m\n\u001b[0;32m--> 313\u001b[0;31m             raise AttributeError(\"module {!r} has no attribute \"\n\u001b[0m\u001b[1;32m    314\u001b[0m                                  \"{!r}\".format(__name__, attr))\n\u001b[1;32m    315\u001b[0m \u001b[0;34m\u001b[0m\u001b[0m\n",
      "\u001b[0;31mAttributeError\u001b[0m: module 'numpy' has no attribute 'linespace'"
     ]
    }
   ],
   "source": [
    "xvalues = np.linespace(-6, 10, num=6) #chose num=6\n",
    "yvalues = []\n",
    "\n",
    "for j in range(len(xvalues)): #Loop over each element in xvalues array\n",
    "    xval = xvalues[j] #define x to be the jth element\n",
    "    yval = quadeq(xval, a, b, c) #plug in x\n",
    "    yvalues.append(yval) #append y to the yvalues array\n",
    "    \n",
    "print(xvalues)\n",
    "print(yvalues)\n",
    "\n",
    "plt.figure() #set up a figure\n",
    "plt.plot(xlist,ylist, 'o') #issue the plot command\n",
    "plt.xlabel('x') #Set the axis labels\n",
    "plt.ylabel('y')\n",
    "plt.show() #Show the plot"
   ]
  },
  {
   "cell_type": "markdown",
   "metadata": {},
   "source": [
    "To focus the telescope we will take measurements of the size of stars at different focus positions and search for the focus position that gives the minimum sized star. The size of the star as a function of focus position is well approximated by a quadratic, so an efficient method of finding the focus is to take a few measurements, fit a quadratic function, and then find its minimum. Here is a table of focus measurements taken previously:\n",
    "\n",
    "|Focus position|Star size (pixels)|\n",
    "|--------------|------------------|\n",
    "|-40|4.85|\n",
    "|-20|3.71|\n",
    "|0|2.56|\n",
    "|20|2.51|\n",
    "|40|3.17|\n",
    "\n",
    "Create a new CSV (comma separated variable) file by going to the File menu above, clicking \"New Launcher,\" then selecting the \"CSV file\" app - it will open up a spreadsheet. Add a column and 5 rows, then copy in the values from the table above into the csv file. Save it with a sensible filename (e.g., focus.csv). \n",
    "\n",
    "3. Write code to **load the csv file** into a numpy array using the numpy `loadtxt` function using the optional arguments `skiprows=1,delimiter=','`. Plot the focus data using **stride array indexing** to access the individual columns from the csv file (now a 2-d array). You'll want to use a point style formatting for the data points, rather than a line. Don't forget axis labels.\n",
    "\n"
   ]
  },
  {
   "cell_type": "code",
   "execution_count": 4,
   "metadata": {
    "execution": {
     "iopub.execute_input": "2022-02-02T02:52:20.677862Z",
     "iopub.status.busy": "2022-02-02T02:52:20.677099Z",
     "iopub.status.idle": "2022-02-02T02:52:20.723040Z",
     "shell.execute_reply": "2022-02-02T02:52:20.720632Z",
     "shell.execute_reply.started": "2022-02-02T02:52:20.677795Z"
    },
    "tags": []
   },
   "outputs": [
    {
     "ename": "NameError",
     "evalue": "name 'np' is not defined",
     "output_type": "error",
     "traceback": [
      "\u001b[0;31m---------------------------------------------------------------------------\u001b[0m",
      "\u001b[0;31mNameError\u001b[0m                                 Traceback (most recent call last)",
      "\u001b[0;32m/tmp/ipykernel_125/2127876260.py\u001b[0m in \u001b[0;36m<module>\u001b[0;34m\u001b[0m\n\u001b[0;32m----> 1\u001b[0;31m \u001b[0mfocus\u001b[0m \u001b[0;34m=\u001b[0m \u001b[0mnp\u001b[0m\u001b[0;34m.\u001b[0m\u001b[0mloadtxt\u001b[0m\u001b[0;34m(\u001b[0m\u001b[0;34m\"focus.csv\"\u001b[0m\u001b[0;34m,\u001b[0m \u001b[0mskiprows\u001b[0m \u001b[0;34m=\u001b[0m \u001b[0;36m1\u001b[0m\u001b[0;34m,\u001b[0m \u001b[0mdelimiter\u001b[0m \u001b[0;34m=\u001b[0m\u001b[0;34m','\u001b[0m\u001b[0;34m)\u001b[0m\u001b[0;34m\u001b[0m\u001b[0;34m\u001b[0m\u001b[0m\n\u001b[0m\u001b[1;32m      2\u001b[0m \u001b[0;34m\u001b[0m\u001b[0m\n\u001b[1;32m      3\u001b[0m \u001b[0mprint\u001b[0m\u001b[0;34m(\u001b[0m\u001b[0mfocus\u001b[0m\u001b[0;34m[\u001b[0m\u001b[0;34m:\u001b[0m\u001b[0;34m,\u001b[0m\u001b[0;36m1\u001b[0m\u001b[0;34m]\u001b[0m\u001b[0;34m)\u001b[0m\u001b[0;34m\u001b[0m\u001b[0;34m\u001b[0m\u001b[0m\n\u001b[1;32m      4\u001b[0m \u001b[0;34m\u001b[0m\u001b[0m\n\u001b[1;32m      5\u001b[0m \u001b[0mplt\u001b[0m\u001b[0;34m.\u001b[0m\u001b[0mfigure\u001b[0m\u001b[0;34m(\u001b[0m\u001b[0mfigsize\u001b[0m \u001b[0;34m=\u001b[0m \u001b[0;34m(\u001b[0m\u001b[0;36m5\u001b[0m\u001b[0;34m,\u001b[0m \u001b[0;36m5\u001b[0m\u001b[0;34m)\u001b[0m\u001b[0;34m)\u001b[0m \u001b[0;31m#set up a figure\u001b[0m\u001b[0;34m\u001b[0m\u001b[0;34m\u001b[0m\u001b[0m\n",
      "\u001b[0;31mNameError\u001b[0m: name 'np' is not defined"
     ]
    }
   ],
   "source": [
    "focus = np.loadtxt(\"focus.csv\", skiprows = 1, delimiter =',')\n",
    "\n",
    "print(focus[:,1])\n",
    "\n",
    "plt.figure(figsize = (5, 5)) #set up a figure\n",
    "plt.plot(focus[:,0], focus[:,1],'o') #issue the plot command\n",
    "plt.xlabel('Focus Position') #Set the axis labels\n",
    "plt.ylabel('Star Size (pixels)')\n",
    "plt.show() #Show the plot\n",
    "\n",
    "         "
   ]
  },
  {
   "cell_type": "markdown",
   "metadata": {},
   "source": [
    "The points you plotted should look roughly quadratic, so lets fit for the best fit our quadratic function to the data. The `curve_fit` function in the `scipy.optimize` package is very easy to use, and has an example of its use at the bottom of its [documentation](https://docs.scipy.org/doc/scipy/reference/generated/scipy.optimize.curve_fit.html).\n",
    "\n",
    "4. Fit a quadratic **function** to the focus data and **plot** the resulting model as a line in addition to plotting the data on the same plot. **Find the minimum** of the best fit quadratic curve, either analytically or numerically, and **print** the focus value and star size at the minimum. "
   ]
  },
  {
   "cell_type": "code",
   "execution_count": 5,
   "metadata": {
    "execution": {
     "iopub.execute_input": "2022-02-02T02:53:02.413205Z",
     "iopub.status.busy": "2022-02-02T02:53:02.411037Z",
     "iopub.status.idle": "2022-02-02T02:53:02.438630Z",
     "shell.execute_reply": "2022-02-02T02:53:02.436171Z",
     "shell.execute_reply.started": "2022-02-02T02:53:02.413152Z"
    }
   },
   "outputs": [
    {
     "ename": "NameError",
     "evalue": "name 'focus' is not defined",
     "output_type": "error",
     "traceback": [
      "\u001b[0;31m---------------------------------------------------------------------------\u001b[0m",
      "\u001b[0;31mNameError\u001b[0m                                 Traceback (most recent call last)",
      "\u001b[0;32m/tmp/ipykernel_125/1827837358.py\u001b[0m in \u001b[0;36m<module>\u001b[0;34m\u001b[0m\n\u001b[1;32m      2\u001b[0m \u001b[0;32mfrom\u001b[0m \u001b[0mscipy\u001b[0m\u001b[0;34m.\u001b[0m\u001b[0moptimize\u001b[0m \u001b[0;32mimport\u001b[0m \u001b[0mcurve_fit\u001b[0m\u001b[0;34m\u001b[0m\u001b[0;34m\u001b[0m\u001b[0m\n\u001b[1;32m      3\u001b[0m \u001b[0;34m\u001b[0m\u001b[0m\n\u001b[0;32m----> 4\u001b[0;31m \u001b[0mxdata\u001b[0m \u001b[0;34m=\u001b[0m \u001b[0mfocus\u001b[0m\u001b[0;34m[\u001b[0m\u001b[0;34m:\u001b[0m\u001b[0;34m,\u001b[0m\u001b[0;36m0\u001b[0m\u001b[0;34m]\u001b[0m\u001b[0;34m\u001b[0m\u001b[0;34m\u001b[0m\u001b[0m\n\u001b[0m\u001b[1;32m      5\u001b[0m \u001b[0mydata\u001b[0m \u001b[0;34m=\u001b[0m \u001b[0mfocus\u001b[0m\u001b[0;34m[\u001b[0m\u001b[0;34m:\u001b[0m\u001b[0;34m,\u001b[0m\u001b[0;36m1\u001b[0m\u001b[0;34m]\u001b[0m\u001b[0;34m\u001b[0m\u001b[0;34m\u001b[0m\u001b[0m\n\u001b[1;32m      6\u001b[0m \u001b[0;32mdef\u001b[0m \u001b[0mquad_eq\u001b[0m\u001b[0;34m(\u001b[0m\u001b[0mx\u001b[0m\u001b[0;34m,\u001b[0m\u001b[0ma\u001b[0m\u001b[0;34m,\u001b[0m\u001b[0mb\u001b[0m\u001b[0;34m,\u001b[0m\u001b[0mc\u001b[0m\u001b[0;34m)\u001b[0m\u001b[0;34m:\u001b[0m\u001b[0;34m\u001b[0m\u001b[0;34m\u001b[0m\u001b[0m\n",
      "\u001b[0;31mNameError\u001b[0m: name 'focus' is not defined"
     ]
    }
   ],
   "source": [
    "import matplotlib.pyplot as plt\n",
    "from scipy.optimize import curve_fit\n",
    "\n",
    "xdata = focus[:,0]\n",
    "ydata = focus[:,1]\n",
    "def quad_eq(x,a,b,c):\n",
    "    return a*(x**2)+(b*x)+C \n",
    "#print(xdata,ydata)\n",
    "rng = np.arange(-40,40)\n",
    "\n",
    "popt,pcov = curve_fit(quad_eq, xdata, ydata)\n",
    "\n",
    "plt.plot(xdata, ydata, 'o', label = 'data')\n",
    "\n",
    "plt.plot(xdata, quad_eq(xdata, *popt))\n",
    "\n",
    "plt.xlabel('x')\n",
    "plt.ylabel('y')\n",
    "plt.legend()\n",
    "plt.show()"
   ]
  },
  {
   "cell_type": "code",
   "execution_count": null,
   "metadata": {},
   "outputs": [],
   "source": []
  }
 ],
 "metadata": {
  "kernelspec": {
   "display_name": "Python 3.8 (py38)",
   "language": "python",
   "name": "py38"
  },
  "language_info": {
   "codemirror_mode": {
    "name": "ipython",
    "version": 3
   },
   "file_extension": ".py",
   "mimetype": "text/x-python",
   "name": "python",
   "nbconvert_exporter": "python",
   "pygments_lexer": "ipython3",
   "version": "3.8.5"
  }
 },
 "nbformat": 4,
 "nbformat_minor": 4
}
